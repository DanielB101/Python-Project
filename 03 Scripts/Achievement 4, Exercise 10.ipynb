{
 "cells": [
  {
   "cell_type": "markdown",
   "id": "c536415d",
   "metadata": {},
   "source": [
    "### 1. import libraries, define path, import dataframe\n",
    "### 2. address security implications; PII\n",
    "### 3. geographic region; spending analysis\n",
    "### 4. activity categorization\n",
    "### 5. customer profiles\n",
    "### 6. profile visualizations\n",
    "### 7. customer profile aggregation\n",
    "### 8. customer comparisons\n",
    "### 9. export charts"
   ]
  },
  {
   "cell_type": "markdown",
   "id": "4e76aa08",
   "metadata": {},
   "source": [
    "## 1. import libraries, define path, import dataframe"
   ]
  },
  {
   "cell_type": "code",
   "execution_count": 3,
   "id": "effe7251",
   "metadata": {},
   "outputs": [],
   "source": [
    "# Import libraries\n",
    "import pandas as pd\n",
    "import numpy as np\n",
    "import os\n",
    "import matplotlib.pyplot as plt\n",
    "import seaborn as sns\n",
    "import scipy"
   ]
  },
  {
   "cell_type": "code",
   "execution_count": 4,
   "id": "eb991739",
   "metadata": {},
   "outputs": [],
   "source": [
    "# Define path\n",
    "path = r'C:\\Users\\Personal Computer\\Documents\\09.2022_Instacart_Basket_Analysis'"
   ]
  },
  {
   "cell_type": "code",
   "execution_count": 5,
   "id": "65de7f6b",
   "metadata": {},
   "outputs": [],
   "source": [
    "# Import instacart_orders_products_customers.pkl \n",
    "ords_prods_custs = pd.read_pickle(os.path.join(path, '02 Data', 'Prepared Data', 'instacart_orders_products_customers.pkl'))"
   ]
  },
  {
   "cell_type": "markdown",
   "id": "dd5cf075",
   "metadata": {},
   "source": [
    "## 5. customer profiles"
   ]
  },
  {
   "cell_type": "code",
   "execution_count": 8,
   "id": "24baeaf2",
   "metadata": {},
   "outputs": [],
   "source": [
    "# Import orders_products_all.pkl \n",
    "df = pd.read_pickle(os.path.join(path, '02 Data', 'Prepared Data', 'orders_products_all.pkl'))"
   ]
  },
  {
   "cell_type": "code",
   "execution_count": 9,
   "id": "c7970b0b",
   "metadata": {},
   "outputs": [],
   "source": [
    "Northeast = ['Maine','New Hampshire','Vermont','Massachusetts','Rhode Island','Connecticut','New York','Pennsylvania','New Jersey']\n",
    "Midwest = ['Wisconsin','Michigan','Illinois','Indiana','Ohio','North Dakota','South Dakota','Nebraska','Kansas','Minnesota','Iowa','Missouri']\n",
    "South = ['Delaware','Maryland','District of Columbia','Virginia','West Virginia','North Carolina','South Carolina','Georgia','Florida','Kentucky', 'Tennessee','Mississippi','Alabama','Oklahoma','Texas','Arkansas','Louisiana']\n",
    "West = ['Idaho','Montana','Wyoming','Nevada','Utah','Colorado','Arizona','New Mexico','Alaska','Washington','Oregon','California','Hawaii']"
   ]
  },
  {
   "cell_type": "code",
   "execution_count": 10,
   "id": "7e18b04b",
   "metadata": {},
   "outputs": [],
   "source": [
    "df.loc[df['state'].isin(Northeast), 'geographic_region'] = 'Northeast'\n",
    "df.loc[df['state'].isin(Midwest), 'geographic_region'] = 'Midwest'\n",
    "df.loc[df['state'].isin(South), 'geographic_region'] = 'South'\n",
    "df.loc[df['state'].isin(West), 'geographic_region'] = 'West'"
   ]
  },
  {
   "cell_type": "code",
   "execution_count": 11,
   "id": "4edd734b",
   "metadata": {
    "scrolled": true
   },
   "outputs": [
    {
     "data": {
      "text/plain": [
       "South        10311139\n",
       "West          7927227\n",
       "Midwest       7261513\n",
       "Northeast     5464685\n",
       "Name: geographic_region, dtype: int64"
      ]
     },
     "execution_count": 11,
     "metadata": {},
     "output_type": "execute_result"
    }
   ],
   "source": [
    "# Check import of new dataframe with geographic region\n",
    "df['geographic_region'].value_counts(dropna = False)"
   ]
  },
  {
   "cell_type": "code",
   "execution_count": 141,
   "id": "a814dd30",
   "metadata": {},
   "outputs": [
    {
     "name": "stdout",
     "output_type": "stream",
     "text": [
      "<class 'pandas.core.frame.DataFrame'>\n",
      "Int64Index: 30964564 entries, 0 to 32404854\n",
      "Data columns (total 39 columns):\n",
      " #   Column                  Dtype  \n",
      "---  ------                  -----  \n",
      " 0   order_id                int64  \n",
      " 1   user_id                 int64  \n",
      " 2   user_order_number       int64  \n",
      " 3   orders_day_of_week      int64  \n",
      " 4   order_hour_of_day       int64  \n",
      " 5   days_since_prior_order  float64\n",
      " 6   first_order             object \n",
      " 7   product_id              int64  \n",
      " 8   add_to_cart_order       int64  \n",
      " 9   reordered               int64  \n",
      " 10  Unnamed: 0_y            int64  \n",
      " 11  product_name            object \n",
      " 12  aisle_id                int64  \n",
      " 13  department_id           int64  \n",
      " 14  prices                  float64\n",
      " 15  price_range_loc         object \n",
      " 16  busiest_day             object \n",
      " 17  busiest_days            object \n",
      " 18  busiest_hours           object \n",
      " 19  max_order               int64  \n",
      " 20  loyalty_flag            object \n",
      " 21  mean_order_price        float64\n",
      " 22  spending_flag           object \n",
      " 23  median_prior_order      float64\n",
      " 24  frequency_flag          object \n",
      " 25  gender                  object \n",
      " 26  state                   object \n",
      " 27  age                     int64  \n",
      " 28  date_joined             object \n",
      " 29  number_of_dependents    int64  \n",
      " 30  family_status           object \n",
      " 31  income                  int64  \n",
      " 32  geographic_region       object \n",
      " 33  activity                object \n",
      " 34  age_group               object \n",
      " 35  income_group            object \n",
      " 36  dependent_group         object \n",
      " 37  department              object \n",
      " 38  order_time_group        object \n",
      "dtypes: float64(4), int64(15), object(20)\n",
      "memory usage: 10.2+ GB\n"
     ]
    }
   ],
   "source": [
    "df.info()"
   ]
  },
  {
   "cell_type": "markdown",
   "id": "a0c06043",
   "metadata": {},
   "source": [
    "# OKAY THOSE"
   ]
  },
  {
   "cell_type": "code",
   "execution_count": 131,
   "id": "93be45fa",
   "metadata": {},
   "outputs": [],
   "source": [
    "df['geographic_region'].value_counts(dropna = False).to_clipboard()"
   ]
  },
  {
   "cell_type": "code",
   "execution_count": 132,
   "id": "d4489c9f",
   "metadata": {},
   "outputs": [],
   "source": [
    "crosstab298 = pd.crosstab(df['geographic_region'], df['spending_flag'], dropna=False)"
   ]
  },
  {
   "cell_type": "code",
   "execution_count": 137,
   "id": "723653e2",
   "metadata": {
    "scrolled": false
   },
   "outputs": [],
   "source": [
    "crosstab298.to_clipboard()"
   ]
  },
  {
   "cell_type": "code",
   "execution_count": 136,
   "id": "c89b044b",
   "metadata": {
    "scrolled": true
   },
   "outputs": [
    {
     "data": {
      "text/plain": [
       "Text(0, 0.5, 'number of customers')"
      ]
     },
     "execution_count": 136,
     "metadata": {},
     "output_type": "execute_result"
    },
    {
     "data": {
      "image/png": "[encoded data removed]",
      "text/plain": [
       "<Figure size 1296x576 with 1 Axes>"
      ]
     },
     "metadata": {},
     "output_type": "display_data"
    }
   ],
   "source": [
    "## (kind='bar')\n",
    "sns.set(rc = {'figure.figsize':(18,8)})\n",
    "crosstab298_bar = crosstab298.plot.bar()\n",
    "plt.title('Geographic Regions, Spending', fontsize=20)\n",
    "plt.xlabel('geographic region', fontsize=20)\n",
    "plt.ylabel('number of customers', fontsize=20)"
   ]
  },
  {
   "cell_type": "code",
   "execution_count": 142,
   "id": "69c85d37",
   "metadata": {},
   "outputs": [],
   "source": [
    "crosstab398 = pd.crosstab(df['geographic_region'], df['frequency_flag'], dropna=False)"
   ]
  },
  {
   "cell_type": "code",
   "execution_count": 143,
   "id": "27770dc2",
   "metadata": {},
   "outputs": [],
   "source": [
    "crosstab398.to_clipboard()"
   ]
  },
  {
   "cell_type": "code",
   "execution_count": 144,
   "id": "90c459d3",
   "metadata": {},
   "outputs": [
    {
     "data": {
      "text/plain": [
       "Text(0, 0.5, 'number of customers')"
      ]
     },
     "execution_count": 144,
     "metadata": {},
     "output_type": "execute_result"
    },
    {
     "data": {
      "image/png": "[encoded data removed]",
      "text/plain": [
       "<Figure size 1296x576 with 1 Axes>"
      ]
     },
     "metadata": {},
     "output_type": "display_data"
    }
   ],
   "source": [
    "## (kind='bar')\n",
    "sns.set(rc = {'figure.figsize':(18,8)})\n",
    "crosstab398_bar = crosstab398.plot.bar()\n",
    "plt.title('Geographic Regions, Frequency', fontsize=20)\n",
    "plt.xlabel('geographic region', fontsize=20)\n",
    "plt.ylabel('number of customers', fontsize=20)"
   ]
  },
  {
   "cell_type": "code",
   "execution_count": 145,
   "id": "ceb85de0",
   "metadata": {},
   "outputs": [],
   "source": [
    "crosstab498 = pd.crosstab(df['geographic_region'], df['loyalty_flag'], dropna=False)"
   ]
  },
  {
   "cell_type": "code",
   "execution_count": 146,
   "id": "a7091b1b",
   "metadata": {},
   "outputs": [],
   "source": [
    "crosstab498.to_clipboard()"
   ]
  },
  {
   "cell_type": "code",
   "execution_count": 162,
   "id": "7dc3b69b",
   "metadata": {},
   "outputs": [
    {
     "data": {
      "text/plain": [
       "Text(0, 0.5, 'number of customers')"
      ]
     },
     "execution_count": 162,
     "metadata": {},
     "output_type": "execute_result"
    },
    {
     "data": {
      "image/png": "[encoded data removed]",
      "text/plain": [
       "<Figure size 1296x576 with 1 Axes>"
      ]
     },
     "metadata": {},
     "output_type": "display_data"
    }
   ],
   "source": [
    "## (kind='bar')\n",
    "sns.set(rc = {'figure.figsize':(18,8)})\n",
    "crosstab498_bar = crosstab498.plot.bar()\n",
    "plt.title('Geographic Regions, Loyalty', fontsize=20)\n",
    "plt.xlabel('geographic region', fontsize=20)\n",
    "plt.ylabel('number of customers', fontsize=20)"
   ]
  },
  {
   "cell_type": "code",
   "execution_count": 165,
   "id": "4e5ed3a9",
   "metadata": {},
   "outputs": [
    {
     "data": {
      "image/png": "[encoded data removed]",
      "text/plain": [
       "<Figure size 1296x576 with 1 Axes>"
      ]
     },
     "metadata": {},
     "output_type": "display_data"
    }
   ],
   "source": [
    "line_age1c_ = sns.lineplot(data = df, x = 'family_status', y ='age')"
   ]
  },
  {
   "cell_type": "code",
   "execution_count": 166,
   "id": "25ce0421",
   "metadata": {},
   "outputs": [
    {
     "data": {
      "image/png": "[encoded data removed]",
      "text/plain": [
       "<Figure size 1296x576 with 1 Axes>"
      ]
     },
     "metadata": {},
     "output_type": "display_data"
    }
   ],
   "source": [
    "line_age2d_ = sns.lineplot(data = df, x = 'age', y ='family_status')"
   ]
  },
  {
   "cell_type": "code",
   "execution_count": 167,
   "id": "95dea272",
   "metadata": {},
   "outputs": [
    {
     "data": {
      "image/png": "[encoded data removed]",
      "text/plain": [
       "<Figure size 1296x576 with 1 Axes>"
      ]
     },
     "metadata": {},
     "output_type": "display_data"
    }
   ],
   "source": [
    "# create a scatterplot\n",
    "scatter_age = sns.scatterplot(x = 'family_status', y = 'age', data = df)"
   ]
  },
  {
   "cell_type": "code",
   "execution_count": null,
   "id": "aa8abd3d",
   "metadata": {},
   "outputs": [],
   "source": []
  },
  {
   "cell_type": "code",
   "execution_count": null,
   "id": "e52460f8",
   "metadata": {},
   "outputs": [],
   "source": []
  },
  {
   "cell_type": "code",
   "execution_count": null,
   "id": "46fb9b17",
   "metadata": {},
   "outputs": [],
   "source": []
  },
  {
   "cell_type": "code",
   "execution_count": null,
   "id": "3815484d",
   "metadata": {},
   "outputs": [],
   "source": []
  },
  {
   "cell_type": "code",
   "execution_count": null,
   "id": "0d042bec",
   "metadata": {},
   "outputs": [],
   "source": []
  },
  {
   "cell_type": "code",
   "execution_count": null,
   "id": "8ead9e16",
   "metadata": {},
   "outputs": [],
   "source": []
  },
  {
   "cell_type": "code",
   "execution_count": 156,
   "id": "a450383d",
   "metadata": {},
   "outputs": [],
   "source": [
    "income_cross = pd.crosstab(df['income_group'], df['price_range_loc'], dropna=False)"
   ]
  },
  {
   "cell_type": "code",
   "execution_count": 158,
   "id": "e18c5804",
   "metadata": {},
   "outputs": [
    {
     "data": {
      "image/png": "[encoded data removed]",
      "text/plain": [
       "<Figure size 1296x576 with 1 Axes>"
      ]
     },
     "metadata": {},
     "output_type": "display_data"
    }
   ],
   "source": [
    "hist=df['income'].plot.hist(bins=20, fontsize=20)"
   ]
  },
  {
   "cell_type": "code",
   "execution_count": 159,
   "id": "cd8873ce",
   "metadata": {
    "scrolled": true
   },
   "outputs": [
    {
     "data": {
      "image/png": "[encoded data removed]",
      "text/plain": [
       "<Figure size 1296x576 with 1 Axes>"
      ]
     },
     "metadata": {},
     "output_type": "display_data"
    }
   ],
   "source": [
    "income_cross_bar = income_cross.plot(kind='bar')"
   ]
  },
  {
   "cell_type": "code",
   "execution_count": null,
   "id": "d2a167f3",
   "metadata": {},
   "outputs": [],
   "source": []
  },
  {
   "cell_type": "code",
   "execution_count": 176,
   "id": "27c08027",
   "metadata": {},
   "outputs": [],
   "source": [
    "crosstab698 = pd.crosstab(df['department'], df['dependent_group'], dropna=False)"
   ]
  },
  {
   "cell_type": "code",
   "execution_count": 177,
   "id": "7825bba5",
   "metadata": {},
   "outputs": [],
   "source": [
    "crosstab698.to_clipboard()"
   ]
  },
  {
   "cell_type": "code",
   "execution_count": 182,
   "id": "8ded7928",
   "metadata": {},
   "outputs": [
    {
     "data": {
      "text/plain": [
       "Text(0, 0.5, 'orders')"
      ]
     },
     "execution_count": 182,
     "metadata": {},
     "output_type": "execute_result"
    },
    {
     "data": {
      "image/png": "[encoded data removed]",
      "text/plain": [
       "<Figure size 1296x576 with 1 Axes>"
      ]
     },
     "metadata": {},
     "output_type": "display_data"
    }
   ],
   "source": [
    "## (kind='bar')\n",
    "sns.set(rc = {'figure.figsize':(18,8)})\n",
    "crosstab698_bar = crosstab698.plot.bar()\n",
    "plt.title('Dependent Group, Spending', fontsize=20)\n",
    "plt.xlabel('department', fontsize=20)\n",
    "plt.ylabel('orders', fontsize=20)"
   ]
  },
  {
   "cell_type": "code",
   "execution_count": 179,
   "id": "f3a270e8",
   "metadata": {},
   "outputs": [],
   "source": [
    "crosstab798 = pd.crosstab(df['department'], df['income_group'], dropna=False)"
   ]
  },
  {
   "cell_type": "code",
   "execution_count": 183,
   "id": "39d3c207",
   "metadata": {},
   "outputs": [
    {
     "data": {
      "text/plain": [
       "Text(0, 0.5, 'orders')"
      ]
     },
     "execution_count": 183,
     "metadata": {},
     "output_type": "execute_result"
    },
    {
     "data": {
      "image/png": "[encoded data removed]",
      "text/plain": [
       "<Figure size 1296x576 with 1 Axes>"
      ]
     },
     "metadata": {},
     "output_type": "display_data"
    }
   ],
   "source": [
    "sns.set(rc = {'figure.figsize':(18,8)})\n",
    "crosstab798_bar = crosstab798.plot.bar()\n",
    "plt.title('Income Group, Spending', fontsize=20)\n",
    "plt.xlabel('department', fontsize=20)\n",
    "plt.ylabel('orders', fontsize=20)"
   ]
  },
  {
   "cell_type": "code",
   "execution_count": 181,
   "id": "8d76762a",
   "metadata": {},
   "outputs": [],
   "source": [
    "crosstab898 = pd.crosstab(df['department'], df['order_time_group'], dropna=False)"
   ]
  },
  {
   "cell_type": "code",
   "execution_count": 184,
   "id": "1a4fc5d3",
   "metadata": {},
   "outputs": [
    {
     "data": {
      "text/plain": [
       "Text(0, 0.5, 'orders')"
      ]
     },
     "execution_count": 184,
     "metadata": {},
     "output_type": "execute_result"
    },
    {
     "data": {
      "image/png": "[encoded data removed]",
      "text/plain": [
       "<Figure size 1296x576 with 1 Axes>"
      ]
     },
     "metadata": {},
     "output_type": "display_data"
    }
   ],
   "source": [
    "sns.set(rc = {'figure.figsize':(18,8)})\n",
    "crosstab898_bar = crosstab898.plot.bar()\n",
    "plt.title('Order Time Group, Spending', fontsize=20)\n",
    "plt.xlabel('department', fontsize=20)\n",
    "plt.ylabel('orders', fontsize=20)"
   ]
  },
  {
   "cell_type": "code",
   "execution_count": null,
   "id": "1f2a0ff7",
   "metadata": {},
   "outputs": [],
   "source": [
    "crosstab699 = pd.crosstab(df['dependent_group'], df['income'], dropna=False)"
   ]
  },
  {
   "cell_type": "code",
   "execution_count": null,
   "id": "ce9b6d55",
   "metadata": {},
   "outputs": [],
   "source": []
  },
  {
   "cell_type": "code",
   "execution_count": null,
   "id": "4758f879",
   "metadata": {},
   "outputs": [],
   "source": [
    "crosstab699 = pd.crosstab(df['dependent_group'], df['income'], dropna=False)"
   ]
  },
  {
   "cell_type": "code",
   "execution_count": null,
   "id": "336e5bfd",
   "metadata": {},
   "outputs": [],
   "source": []
  },
  {
   "cell_type": "code",
   "execution_count": null,
   "id": "9595bdb9",
   "metadata": {},
   "outputs": [],
   "source": [
    "crosstab699 = pd.crosstab(df['dependent_group'], df['income'], dropna=False)"
   ]
  },
  {
   "cell_type": "code",
   "execution_count": null,
   "id": "0344e6e0",
   "metadata": {},
   "outputs": [],
   "source": []
  },
  {
   "cell_type": "code",
   "execution_count": null,
   "id": "7aa75308",
   "metadata": {},
   "outputs": [],
   "source": [
    "bar=df_unique['age_group'].value_counts().plot.bar(color='#4690b7', fontsize=20)"
   ]
  },
  {
   "cell_type": "code",
   "execution_count": 118,
   "id": "42e3af65",
   "metadata": {},
   "outputs": [
    {
     "data": {
      "image/png": "[encoded data removed]",
      "text/plain": [
       "<Figure size 1296x576 with 1 Axes>"
      ]
     },
     "metadata": {},
     "output_type": "display_data"
    }
   ],
   "source": [
    "sns.set(rc = {'figure.figsize':(18,8)})\n",
    "bargra = df['geographic_region'].value_counts().plot.bar(fontsize=20)"
   ]
  },
  {
   "cell_type": "code",
   "execution_count": 13,
   "id": "383de399",
   "metadata": {},
   "outputs": [],
   "source": [
    "# Age groups\n",
    "df.loc[df['age'] <= 24, 'age_group'] ='18-24 years'\n",
    "df.loc[(df['age'] >= 25) & (df['age'] < 35), 'age_group'] ='25-34 years'\n",
    "df.loc[(df['age'] >= 35) & (df['age'] < 45), 'age_group'] ='35-44 years'\n",
    "df.loc[(df['age'] >= 45) & (df['age'] < 55), 'age_group'] ='45-54 years'\n",
    "df.loc[(df['age'] >= 55) & (df['age'] < 65), 'age_group'] ='55-64 years'\n",
    "df.loc[df['age'] >= 65, 'age_group'] ='65+ years'"
   ]
  },
  {
   "cell_type": "code",
   "execution_count": 14,
   "id": "d4135e17",
   "metadata": {
    "scrolled": true
   },
   "outputs": [
    {
     "data": {
      "text/plain": [
       "65+ years      8195544\n",
       "45-54 years    4887564\n",
       "35-44 years    4836674\n",
       "25-34 years    4827101\n",
       "55-64 years    4802487\n",
       "18-24 years    3415194\n",
       "Name: age_group, dtype: int64"
      ]
     },
     "execution_count": 14,
     "metadata": {},
     "output_type": "execute_result"
    }
   ],
   "source": [
    "df['age_group'].value_counts(dropna = False)"
   ]
  },
  {
   "cell_type": "code",
   "execution_count": 15,
   "id": "40978afa",
   "metadata": {},
   "outputs": [],
   "source": [
    "df['age_group'].value_counts(dropna = False).to_clipboard()"
   ]
  },
  {
   "cell_type": "code",
   "execution_count": 16,
   "id": "3202bfe6",
   "metadata": {},
   "outputs": [],
   "source": [
    "# Income\n",
    "df.loc[df['income'] < 20000, 'income_group'] ='Very Low'\n",
    "df.loc[(df['income'] >= 20000) & (df['income'] < 45000), 'income_group'] ='Low'\n",
    "df.loc[(df['income'] >= 45000) & (df['income'] < 140000), 'income_group'] ='Middle'\n",
    "df.loc[(df['income'] >= 140000) & (df['income'] < 150000), 'income_group'] ='Upper Middle'\n",
    "df.loc[(df['income'] >= 150000) & (df['income'] < 200000), 'income_group'] ='High'\n",
    "df.loc[df['income'] >= 200000, 'income_group'] ='Very High'"
   ]
  },
  {
   "cell_type": "code",
   "execution_count": 17,
   "id": "22c970fa",
   "metadata": {
    "scrolled": true
   },
   "outputs": [
    {
     "data": {
      "text/plain": [
       "Middle          22805026\n",
       "High             3641133\n",
       "Low              2518783\n",
       "Upper Middle     1745480\n",
       "Very High         254142\n",
       "Name: income_group, dtype: int64"
      ]
     },
     "execution_count": 17,
     "metadata": {},
     "output_type": "execute_result"
    }
   ],
   "source": [
    "df['income_group'].value_counts(dropna = False)"
   ]
  },
  {
   "cell_type": "code",
   "execution_count": 18,
   "id": "13d3e41d",
   "metadata": {},
   "outputs": [],
   "source": [
    "df['income_group'].value_counts(dropna = False).to_clipboard()"
   ]
  },
  {
   "cell_type": "code",
   "execution_count": 19,
   "id": "eee3b161",
   "metadata": {},
   "outputs": [],
   "source": [
    "# Dependents?\n",
    "df.loc[df['number_of_dependents']>0, 'dependent_group']='has dependents'\n",
    "df.loc[df['number_of_dependents']==0,'dependent_group']='no dependents'"
   ]
  },
  {
   "cell_type": "code",
   "execution_count": 20,
   "id": "ff5fcd2d",
   "metadata": {
    "scrolled": true
   },
   "outputs": [
    {
     "data": {
      "text/plain": [
       "has dependents    23224883\n",
       "no dependents      7739681\n",
       "Name: dependent_group, dtype: int64"
      ]
     },
     "execution_count": 20,
     "metadata": {},
     "output_type": "execute_result"
    }
   ],
   "source": [
    "df['dependent_group'].value_counts(dropna = False)"
   ]
  },
  {
   "cell_type": "code",
   "execution_count": 21,
   "id": "a31f320f",
   "metadata": {},
   "outputs": [],
   "source": [
    "df['dependent_group'].value_counts(dropna = False).to_clipboard()"
   ]
  },
  {
   "cell_type": "code",
   "execution_count": 22,
   "id": "05432317",
   "metadata": {
    "scrolled": true
   },
   "outputs": [
    {
     "data": {
      "text/plain": [
       "married                             21743711\n",
       "single                               5094410\n",
       "divorced/widowed                     2645271\n",
       "living with parents and siblings     1481172\n",
       "Name: family_status, dtype: int64"
      ]
     },
     "execution_count": 22,
     "metadata": {},
     "output_type": "execute_result"
    }
   ],
   "source": [
    "# Family status\n",
    "df['family_status'].value_counts()"
   ]
  },
  {
   "cell_type": "code",
   "execution_count": 23,
   "id": "fcd01731",
   "metadata": {},
   "outputs": [],
   "source": [
    "df['family_status'].value_counts(dropna = False).to_clipboard()"
   ]
  },
  {
   "cell_type": "code",
   "execution_count": 24,
   "id": "a80fa43a",
   "metadata": {
    "scrolled": false
   },
   "outputs": [],
   "source": [
    "# import department desscriptions from data dicitionary created in 4.4\n",
    "departments = pd.read_csv(os.path.join(path, '02 Data', 'Prepared Data', 'departments_wrangled.csv'),index_col=False)"
   ]
  },
  {
   "cell_type": "code",
   "execution_count": 25,
   "id": "1f607bf2",
   "metadata": {},
   "outputs": [
    {
     "data": {
      "text/plain": [
       "{1: 'frozen',\n",
       " 2: 'other',\n",
       " 3: 'bakery',\n",
       " 4: 'produce',\n",
       " 5: 'alcohol',\n",
       " 6: 'international',\n",
       " 7: 'beverages',\n",
       " 8: 'pets',\n",
       " 9: 'dry goods pasta',\n",
       " 10: 'bulk',\n",
       " 11: 'personal care',\n",
       " 12: 'meat seafood',\n",
       " 13: 'pantry',\n",
       " 14: 'breakfast',\n",
       " 15: 'canned goods',\n",
       " 16: 'dairy eggs',\n",
       " 17: 'household',\n",
       " 18: 'babies',\n",
       " 19: 'snacks',\n",
       " 20: 'deli',\n",
       " 21: 'missing'}"
      ]
     },
     "execution_count": 25,
     "metadata": {},
     "output_type": "execute_result"
    }
   ],
   "source": [
    "# adding data dictionary 'detpartment' to corresponding 'department_id'\n",
    "zipped=zip(departments['Unnamed: 0'], departments['department'])\n",
    "data_dict=dict(zipped)\n",
    "data_dict"
   ]
  },
  {
   "cell_type": "code",
   "execution_count": 26,
   "id": "e9c3e3e1",
   "metadata": {},
   "outputs": [],
   "source": [
    "df['department'] = df['department_id'].map(data_dict)"
   ]
  },
  {
   "cell_type": "code",
   "execution_count": 27,
   "id": "ec98884b",
   "metadata": {},
   "outputs": [
    {
     "data": {
      "text/html": [
       "<div>\n",
       "<style scoped>\n",
       "    .dataframe tbody tr th:only-of-type {\n",
       "        vertical-align: middle;\n",
       "    }\n",
       "\n",
       "    .dataframe tbody tr th {\n",
       "        vertical-align: top;\n",
       "    }\n",
       "\n",
       "    .dataframe thead th {\n",
       "        text-align: right;\n",
       "    }\n",
       "</style>\n",
       "<table border=\"1\" class=\"dataframe\">\n",
       "  <thead>\n",
       "    <tr style=\"text-align: right;\">\n",
       "      <th></th>\n",
       "      <th>order_id</th>\n",
       "      <th>user_id</th>\n",
       "      <th>user_order_number</th>\n",
       "      <th>orders_day_of_week</th>\n",
       "      <th>order_hour_of_day</th>\n",
       "      <th>days_since_prior_order</th>\n",
       "      <th>first_order</th>\n",
       "      <th>product_id</th>\n",
       "      <th>add_to_cart_order</th>\n",
       "      <th>reordered</th>\n",
       "      <th>...</th>\n",
       "      <th>date_joined</th>\n",
       "      <th>number_of_dependents</th>\n",
       "      <th>family_status</th>\n",
       "      <th>income</th>\n",
       "      <th>geographic_region</th>\n",
       "      <th>activity</th>\n",
       "      <th>age_group</th>\n",
       "      <th>income_group</th>\n",
       "      <th>dependent_group</th>\n",
       "      <th>department</th>\n",
       "    </tr>\n",
       "  </thead>\n",
       "  <tbody>\n",
       "    <tr>\n",
       "      <th>0</th>\n",
       "      <td>2539329</td>\n",
       "      <td>1</td>\n",
       "      <td>1</td>\n",
       "      <td>2</td>\n",
       "      <td>8</td>\n",
       "      <td>NaN</td>\n",
       "      <td>yes</td>\n",
       "      <td>196</td>\n",
       "      <td>1</td>\n",
       "      <td>0</td>\n",
       "      <td>...</td>\n",
       "      <td>2/17/2019</td>\n",
       "      <td>3</td>\n",
       "      <td>married</td>\n",
       "      <td>40423</td>\n",
       "      <td>South</td>\n",
       "      <td>regular activity</td>\n",
       "      <td>25-34 years</td>\n",
       "      <td>Low</td>\n",
       "      <td>has dependents</td>\n",
       "      <td>beverages</td>\n",
       "    </tr>\n",
       "    <tr>\n",
       "      <th>1</th>\n",
       "      <td>2398795</td>\n",
       "      <td>1</td>\n",
       "      <td>2</td>\n",
       "      <td>3</td>\n",
       "      <td>7</td>\n",
       "      <td>15.0</td>\n",
       "      <td>no</td>\n",
       "      <td>196</td>\n",
       "      <td>1</td>\n",
       "      <td>1</td>\n",
       "      <td>...</td>\n",
       "      <td>2/17/2019</td>\n",
       "      <td>3</td>\n",
       "      <td>married</td>\n",
       "      <td>40423</td>\n",
       "      <td>South</td>\n",
       "      <td>regular activity</td>\n",
       "      <td>25-34 years</td>\n",
       "      <td>Low</td>\n",
       "      <td>has dependents</td>\n",
       "      <td>beverages</td>\n",
       "    </tr>\n",
       "    <tr>\n",
       "      <th>2</th>\n",
       "      <td>473747</td>\n",
       "      <td>1</td>\n",
       "      <td>3</td>\n",
       "      <td>3</td>\n",
       "      <td>12</td>\n",
       "      <td>21.0</td>\n",
       "      <td>no</td>\n",
       "      <td>196</td>\n",
       "      <td>1</td>\n",
       "      <td>1</td>\n",
       "      <td>...</td>\n",
       "      <td>2/17/2019</td>\n",
       "      <td>3</td>\n",
       "      <td>married</td>\n",
       "      <td>40423</td>\n",
       "      <td>South</td>\n",
       "      <td>regular activity</td>\n",
       "      <td>25-34 years</td>\n",
       "      <td>Low</td>\n",
       "      <td>has dependents</td>\n",
       "      <td>beverages</td>\n",
       "    </tr>\n",
       "    <tr>\n",
       "      <th>3</th>\n",
       "      <td>2254736</td>\n",
       "      <td>1</td>\n",
       "      <td>4</td>\n",
       "      <td>4</td>\n",
       "      <td>7</td>\n",
       "      <td>29.0</td>\n",
       "      <td>no</td>\n",
       "      <td>196</td>\n",
       "      <td>1</td>\n",
       "      <td>1</td>\n",
       "      <td>...</td>\n",
       "      <td>2/17/2019</td>\n",
       "      <td>3</td>\n",
       "      <td>married</td>\n",
       "      <td>40423</td>\n",
       "      <td>South</td>\n",
       "      <td>regular activity</td>\n",
       "      <td>25-34 years</td>\n",
       "      <td>Low</td>\n",
       "      <td>has dependents</td>\n",
       "      <td>beverages</td>\n",
       "    </tr>\n",
       "    <tr>\n",
       "      <th>4</th>\n",
       "      <td>431534</td>\n",
       "      <td>1</td>\n",
       "      <td>5</td>\n",
       "      <td>4</td>\n",
       "      <td>15</td>\n",
       "      <td>28.0</td>\n",
       "      <td>no</td>\n",
       "      <td>196</td>\n",
       "      <td>1</td>\n",
       "      <td>1</td>\n",
       "      <td>...</td>\n",
       "      <td>2/17/2019</td>\n",
       "      <td>3</td>\n",
       "      <td>married</td>\n",
       "      <td>40423</td>\n",
       "      <td>South</td>\n",
       "      <td>regular activity</td>\n",
       "      <td>25-34 years</td>\n",
       "      <td>Low</td>\n",
       "      <td>has dependents</td>\n",
       "      <td>beverages</td>\n",
       "    </tr>\n",
       "  </tbody>\n",
       "</table>\n",
       "<p>5 rows × 38 columns</p>\n",
       "</div>"
      ],
      "text/plain": [
       "   order_id  user_id  user_order_number  orders_day_of_week  \\\n",
       "0   2539329        1                  1                   2   \n",
       "1   2398795        1                  2                   3   \n",
       "2    473747        1                  3                   3   \n",
       "3   2254736        1                  4                   4   \n",
       "4    431534        1                  5                   4   \n",
       "\n",
       "   order_hour_of_day  days_since_prior_order first_order  product_id  \\\n",
       "0                  8                     NaN         yes         196   \n",
       "1                  7                    15.0          no         196   \n",
       "2                 12                    21.0          no         196   \n",
       "3                  7                    29.0          no         196   \n",
       "4                 15                    28.0          no         196   \n",
       "\n",
       "   add_to_cart_order  reordered  ...  date_joined number_of_dependents  \\\n",
       "0                  1          0  ...    2/17/2019                    3   \n",
       "1                  1          1  ...    2/17/2019                    3   \n",
       "2                  1          1  ...    2/17/2019                    3   \n",
       "3                  1          1  ...    2/17/2019                    3   \n",
       "4                  1          1  ...    2/17/2019                    3   \n",
       "\n",
       "   family_status  income  geographic_region          activity    age_group  \\\n",
       "0        married   40423              South  regular activity  25-34 years   \n",
       "1        married   40423              South  regular activity  25-34 years   \n",
       "2        married   40423              South  regular activity  25-34 years   \n",
       "3        married   40423              South  regular activity  25-34 years   \n",
       "4        married   40423              South  regular activity  25-34 years   \n",
       "\n",
       "  income_group dependent_group  department  \n",
       "0          Low  has dependents   beverages  \n",
       "1          Low  has dependents   beverages  \n",
       "2          Low  has dependents   beverages  \n",
       "3          Low  has dependents   beverages  \n",
       "4          Low  has dependents   beverages  \n",
       "\n",
       "[5 rows x 38 columns]"
      ]
     },
     "execution_count": 27,
     "metadata": {},
     "output_type": "execute_result"
    }
   ],
   "source": [
    "df.head()"
   ]
  },
  {
   "cell_type": "code",
   "execution_count": 28,
   "id": "cd877411",
   "metadata": {
    "scrolled": true
   },
   "outputs": [
    {
     "data": {
      "text/plain": [
       "produce            9079273\n",
       "dairy eggs         5177182\n",
       "snacks             2766406\n",
       "beverages          2571901\n",
       "frozen             2121731\n",
       "pantry             1782705\n",
       "bakery             1120828\n",
       "canned goods       1012074\n",
       "deli               1003834\n",
       "dry goods pasta     822136\n",
       "household           699857\n",
       "meat seafood        674781\n",
       "breakfast           670850\n",
       "personal care       424306\n",
       "babies              410392\n",
       "international       255991\n",
       "alcohol             144627\n",
       "pets                 93060\n",
       "missing              64768\n",
       "other                34411\n",
       "bulk                 33451\n",
       "Name: department, dtype: int64"
      ]
     },
     "execution_count": 28,
     "metadata": {},
     "output_type": "execute_result"
    }
   ],
   "source": [
    "df['department'].value_counts()"
   ]
  },
  {
   "cell_type": "code",
   "execution_count": 29,
   "id": "073c3d31",
   "metadata": {},
   "outputs": [],
   "source": [
    "# Ordering Time\n",
    "Early_Birds = [4, 5, 6, 7]\n",
    "Morning = [8, 9, 10, 11]\n",
    "Afternoon = [12, 13, 14, 15, 16]\n",
    "Evening = [17, 18, 19, 20, 21]\n",
    "Night_Owls = [22, 23, 0, 1, 2, 3]"
   ]
  },
  {
   "cell_type": "code",
   "execution_count": 30,
   "id": "7f4ca908",
   "metadata": {},
   "outputs": [],
   "source": [
    "df.loc[df['order_hour_of_day'].isin(Early_Birds), 'order_time_group'] = 'Early Birds'\n",
    "df.loc[df['order_hour_of_day'].isin(Morning), 'order_time_group'] = 'Morning'\n",
    "df.loc[df['order_hour_of_day'].isin(Afternoon), 'order_time_group'] = 'Afternoon'\n",
    "df.loc[df['order_hour_of_day'].isin(Evening), 'order_time_group'] = 'Evening'\n",
    "df.loc[df['order_hour_of_day'].isin(Night_Owls), 'order_time_group'] = 'Night Owls'"
   ]
  },
  {
   "cell_type": "code",
   "execution_count": 31,
   "id": "bc19d1d8",
   "metadata": {},
   "outputs": [
    {
     "data": {
      "text/plain": [
       "Afternoon      12552621\n",
       "Morning         9287345\n",
       "Evening         6421427\n",
       "Night Owls      1423764\n",
       "Early Birds     1279407\n",
       "Name: order_time_group, dtype: int64"
      ]
     },
     "execution_count": 31,
     "metadata": {},
     "output_type": "execute_result"
    }
   ],
   "source": [
    "df['order_time_group'].value_counts(dropna = False)"
   ]
  },
  {
   "cell_type": "code",
   "execution_count": 32,
   "id": "012461c7",
   "metadata": {},
   "outputs": [],
   "source": [
    "df['order_time_group'].value_counts(dropna = False).to_clipboard()"
   ]
  },
  {
   "cell_type": "code",
   "execution_count": 33,
   "id": "728dd67a",
   "metadata": {
    "scrolled": true
   },
   "outputs": [
    {
     "data": {
      "text/plain": [
       "Index(['order_id', 'user_id', 'user_order_number', 'orders_day_of_week',\n",
       "       'order_hour_of_day', 'days_since_prior_order', 'first_order',\n",
       "       'product_id', 'add_to_cart_order', 'reordered', 'Unnamed: 0_y',\n",
       "       'product_name', 'aisle_id', 'department_id', 'prices',\n",
       "       'price_range_loc', 'busiest_day', 'busiest_days', 'busiest_hours',\n",
       "       'max_order', 'loyalty_flag', 'mean_order_price', 'spending_flag',\n",
       "       'median_prior_order', 'frequency_flag', 'gender', 'state', 'age',\n",
       "       'date_joined', 'number_of_dependents', 'family_status', 'income',\n",
       "       'geographic_region', 'activity', 'age_group', 'income_group',\n",
       "       'dependent_group', 'department', 'order_time_group'],\n",
       "      dtype='object')"
      ]
     },
     "execution_count": 33,
     "metadata": {},
     "output_type": "execute_result"
    }
   ],
   "source": [
    "df.columns"
   ]
  },
  {
   "cell_type": "markdown",
   "id": "c1e9373a",
   "metadata": {},
   "source": [
    "## 6. profile visualizations"
   ]
  },
  {
   "cell_type": "code",
   "execution_count": 34,
   "id": "d0582eb9",
   "metadata": {
    "scrolled": true
   },
   "outputs": [
    {
     "data": {
      "text/plain": [
       "South        10311139\n",
       "West          7927227\n",
       "Midwest       7261513\n",
       "Northeast     5464685\n",
       "Name: geographic_region, dtype: int64"
      ]
     },
     "execution_count": 34,
     "metadata": {},
     "output_type": "execute_result"
    }
   ],
   "source": [
    "df['geographic_region'].value_counts()"
   ]
  },
  {
   "cell_type": "code",
   "execution_count": 35,
   "id": "7b35d93b",
   "metadata": {},
   "outputs": [],
   "source": [
    "df['geographic_region'].value_counts().to_clipboard()"
   ]
  },
  {
   "cell_type": "code",
   "execution_count": 117,
   "id": "2d59762e",
   "metadata": {},
   "outputs": [
    {
     "data": {
      "text/plain": [
       "Text(0, 0.5, 'number of customers')"
      ]
     },
     "execution_count": 117,
     "metadata": {},
     "output_type": "execute_result"
    },
    {
     "data": {
      "image/png": "[encoded data removed]",
      "text/plain": [
       "<Figure size 1296x576 with 1 Axes>"
      ]
     },
     "metadata": {},
     "output_type": "display_data"
    }
   ],
   "source": [
    "# geographic\n",
    "sns.set(rc = {'figure.figsize':(18,8)})\n",
    "bargr = df['geographic_region'].value_counts().plot.bar(fontsize=20)\n",
    "plt.title('Geographic Regions', fontsize=20)\n",
    "plt.xlabel('geographic region', fontsize=20)\n",
    "plt.ylabel('number of customers', fontsize=20)"
   ]
  },
  {
   "cell_type": "code",
   "execution_count": 37,
   "id": "06c5ffae",
   "metadata": {},
   "outputs": [
    {
     "data": {
      "text/plain": [
       "Text(0, 0.5, 'number of customers')"
      ]
     },
     "execution_count": 37,
     "metadata": {},
     "output_type": "execute_result"
    },
    {
     "data": {
      "image/png": "[encoded data removed]",
      "text/plain": [
       "<Figure size 1296x576 with 1 Axes>"
      ]
     },
     "metadata": {},
     "output_type": "display_data"
    }
   ],
   "source": [
    "# geographic\n",
    "sns.set(rc = {'figure.figsize':(18,8)})\n",
    "bargr = df['geographic_region'].value_counts().plot.bar(fontsize=20)\n",
    "plt.title('Geographic Regions', fontsize=20)\n",
    "plt.xlabel('geographic region', fontsize=20)\n",
    "plt.ylabel('number of customers', fontsize=20)"
   ]
  },
  {
   "cell_type": "code",
   "execution_count": 38,
   "id": "2079ee7f",
   "metadata": {},
   "outputs": [
    {
     "data": {
      "text/plain": [
       "Text(0, 0.5, 'number of customers')"
      ]
     },
     "execution_count": 38,
     "metadata": {},
     "output_type": "execute_result"
    },
    {
     "data": {
      "image/png": "[encoded data removed]",
      "text/plain": [
       "<Figure size 2016x1080 with 1 Axes>"
      ]
     },
     "metadata": {},
     "output_type": "display_data"
    }
   ],
   "source": [
    "# age group\n",
    "sns.set(rc = {'figure.figsize':(28,15)})\n",
    "barag = df['age_group'].value_counts().plot.bar(fontsize=20)\n",
    "plt.title('Customer Age', fontsize = 20)\n",
    "plt.xlabel('age group', fontsize = 20)\n",
    "plt.ylabel('number of customers', fontsize = 20)"
   ]
  },
  {
   "cell_type": "code",
   "execution_count": 39,
   "id": "6dc1928c",
   "metadata": {},
   "outputs": [
    {
     "data": {
      "text/plain": [
       "Text(0, 0.5, 'number of customers')"
      ]
     },
     "execution_count": 39,
     "metadata": {},
     "output_type": "execute_result"
    },
    {
     "data": {
      "image/png": "[encoded data removed]",
      "text/plain": [
       "<Figure size 1296x576 with 1 Axes>"
      ]
     },
     "metadata": {},
     "output_type": "display_data"
    }
   ],
   "source": [
    "# income\n",
    "sns.set(rc = {'figure.figsize':(18,8)})\n",
    "histig = df['income'].plot.hist(bins = 120, fontsize = 20)\n",
    "plt.title('Customer Income', fontsize = 30)\n",
    "plt.xlabel('income', fontsize = 20)\n",
    "plt.ylabel('number of customers', fontsize = 20)"
   ]
  },
  {
   "cell_type": "code",
   "execution_count": 40,
   "id": "80553f1e",
   "metadata": {},
   "outputs": [
    {
     "data": {
      "text/plain": [
       "Text(0, 0.5, 'number of customers')"
      ]
     },
     "execution_count": 40,
     "metadata": {},
     "output_type": "execute_result"
    },
    {
     "data": {
      "image/png": "[encoded data removed]",
      "text/plain": [
       "<Figure size 2016x1080 with 1 Axes>"
      ]
     },
     "metadata": {},
     "output_type": "display_data"
    }
   ],
   "source": [
    "sns.set(rc = {'figure.figsize':(28,15)})\n",
    "barig = df['income_group'].value_counts().sort_index().plot.bar(fontsize=20)\n",
    "plt.title('Customer Income', fontsize = 20)\n",
    "plt.xlabel('income group', fontsize = 20)\n",
    "plt.ylabel('number of customers', fontsize = 20)"
   ]
  },
  {
   "cell_type": "code",
   "execution_count": 41,
   "id": "345c6498",
   "metadata": {},
   "outputs": [
    {
     "data": {
      "text/plain": [
       "Text(0.5, 1.0, 'Has Dependent')"
      ]
     },
     "execution_count": 41,
     "metadata": {},
     "output_type": "execute_result"
    },
    {
     "data": {
      "image/png": "[encoded data removed]",
      "text/plain": [
       "<Figure size 1296x576 with 1 Axes>"
      ]
     },
     "metadata": {},
     "output_type": "display_data"
    }
   ],
   "source": [
    "# dependent\n",
    "sns.set(rc = {'figure.figsize':(18,8)})\n",
    "pieg = df['dependent_group'].value_counts().plot.pie()\n",
    "plt.title('Has Dependent', fontsize=20)"
   ]
  },
  {
   "cell_type": "code",
   "execution_count": 42,
   "id": "07d547ce",
   "metadata": {},
   "outputs": [
    {
     "data": {
      "text/plain": [
       "Text(0, 0.5, 'number of customers')"
      ]
     },
     "execution_count": 42,
     "metadata": {},
     "output_type": "execute_result"
    },
    {
     "data": {
      "image/png": "[encoded data removed]",
      "text/plain": [
       "<Figure size 2016x1080 with 1 Axes>"
      ]
     },
     "metadata": {},
     "output_type": "display_data"
    }
   ],
   "source": [
    "# family status\n",
    "sns.set(rc = {'figure.figsize':(28,15)})\n",
    "barfs = df['family_status'].value_counts().sort_index().plot.bar(fontsize=20)\n",
    "plt.title('Family Status', fontsize = 20)\n",
    "plt.xlabel('family status', fontsize = 20)\n",
    "plt.ylabel('number of customers', fontsize = 20)"
   ]
  },
  {
   "cell_type": "code",
   "execution_count": 44,
   "id": "85641dc7",
   "metadata": {},
   "outputs": [
    {
     "data": {
      "text/plain": [
       "Text(0.5, 1.0, 'Time Order Placed')"
      ]
     },
     "execution_count": 44,
     "metadata": {},
     "output_type": "execute_result"
    },
    {
     "data": {
      "image/png": "[encoded data removed]",
      "text/plain": [
       "<Figure size 1296x576 with 1 Axes>"
      ]
     },
     "metadata": {},
     "output_type": "display_data"
    }
   ],
   "source": [
    "# ordering time\n",
    "sns.set(rc = {'figure.figsize':(18,8)})\n",
    "pieotg = df['order_time_group'].value_counts().plot.pie()\n",
    "plt.title('Time Order Placed', fontsize=20)"
   ]
  },
  {
   "cell_type": "markdown",
   "id": "af38af12",
   "metadata": {},
   "source": [
    "## 7. customer profile aggregation"
   ]
  },
  {
   "cell_type": "code",
   "execution_count": 45,
   "id": "4045942f",
   "metadata": {},
   "outputs": [
    {
     "data": {
      "text/plain": [
       "count    3.096456e+07\n",
       "mean     9.957140e+00\n",
       "std      6.666137e+00\n",
       "min      0.000000e+00\n",
       "25%      6.000000e+00\n",
       "50%      7.000000e+00\n",
       "75%      1.250000e+01\n",
       "max      3.000000e+01\n",
       "Name: median_prior_order, dtype: float64"
      ]
     },
     "execution_count": 45,
     "metadata": {},
     "output_type": "execute_result"
    }
   ],
   "source": [
    "df['median_prior_order'].describe()"
   ]
  },
  {
   "cell_type": "code",
   "execution_count": 46,
   "id": "92a8bdaf",
   "metadata": {},
   "outputs": [
    {
     "data": {
      "text/html": [
       "<div>\n",
       "<style scoped>\n",
       "    .dataframe tbody tr th:only-of-type {\n",
       "        vertical-align: middle;\n",
       "    }\n",
       "\n",
       "    .dataframe tbody tr th {\n",
       "        vertical-align: top;\n",
       "    }\n",
       "\n",
       "    .dataframe thead tr th {\n",
       "        text-align: left;\n",
       "    }\n",
       "\n",
       "    .dataframe thead tr:last-of-type th {\n",
       "        text-align: right;\n",
       "    }\n",
       "</style>\n",
       "<table border=\"1\" class=\"dataframe\">\n",
       "  <thead>\n",
       "    <tr>\n",
       "      <th></th>\n",
       "      <th colspan=\"3\" halign=\"left\">median_prior_order</th>\n",
       "      <th colspan=\"3\" halign=\"left\">prices</th>\n",
       "    </tr>\n",
       "    <tr>\n",
       "      <th></th>\n",
       "      <th>mean</th>\n",
       "      <th>min</th>\n",
       "      <th>max</th>\n",
       "      <th>mean</th>\n",
       "      <th>min</th>\n",
       "      <th>max</th>\n",
       "    </tr>\n",
       "    <tr>\n",
       "      <th>geographic_region</th>\n",
       "      <th></th>\n",
       "      <th></th>\n",
       "      <th></th>\n",
       "      <th></th>\n",
       "      <th></th>\n",
       "      <th></th>\n",
       "    </tr>\n",
       "  </thead>\n",
       "  <tbody>\n",
       "    <tr>\n",
       "      <th>Midwest</th>\n",
       "      <td>10.019931</td>\n",
       "      <td>0.0</td>\n",
       "      <td>30.0</td>\n",
       "      <td>12.681835</td>\n",
       "      <td>1.0</td>\n",
       "      <td>99999.0</td>\n",
       "    </tr>\n",
       "    <tr>\n",
       "      <th>Northeast</th>\n",
       "      <td>9.924985</td>\n",
       "      <td>0.0</td>\n",
       "      <td>30.0</td>\n",
       "      <td>11.542582</td>\n",
       "      <td>1.0</td>\n",
       "      <td>99999.0</td>\n",
       "    </tr>\n",
       "    <tr>\n",
       "      <th>South</th>\n",
       "      <td>9.955835</td>\n",
       "      <td>0.0</td>\n",
       "      <td>30.0</td>\n",
       "      <td>12.118845</td>\n",
       "      <td>1.0</td>\n",
       "      <td>99999.0</td>\n",
       "    </tr>\n",
       "    <tr>\n",
       "      <th>West</th>\n",
       "      <td>9.923485</td>\n",
       "      <td>0.0</td>\n",
       "      <td>30.0</td>\n",
       "      <td>11.276491</td>\n",
       "      <td>1.0</td>\n",
       "      <td>99999.0</td>\n",
       "    </tr>\n",
       "  </tbody>\n",
       "</table>\n",
       "</div>"
      ],
      "text/plain": [
       "                  median_prior_order                prices              \n",
       "                                mean  min   max       mean  min      max\n",
       "geographic_region                                                       \n",
       "Midwest                    10.019931  0.0  30.0  12.681835  1.0  99999.0\n",
       "Northeast                   9.924985  0.0  30.0  11.542582  1.0  99999.0\n",
       "South                       9.955835  0.0  30.0  12.118845  1.0  99999.0\n",
       "West                        9.923485  0.0  30.0  11.276491  1.0  99999.0"
      ]
     },
     "execution_count": 46,
     "metadata": {},
     "output_type": "execute_result"
    }
   ],
   "source": [
    "df.groupby(['geographic_region']).agg({'median_prior_order':['mean', 'min', 'max'], 'prices':['mean', 'min', 'max']})"
   ]
  },
  {
   "cell_type": "code",
   "execution_count": 47,
   "id": "8cdf2caa",
   "metadata": {},
   "outputs": [
    {
     "data": {
      "text/html": [
       "<div>\n",
       "<style scoped>\n",
       "    .dataframe tbody tr th:only-of-type {\n",
       "        vertical-align: middle;\n",
       "    }\n",
       "\n",
       "    .dataframe tbody tr th {\n",
       "        vertical-align: top;\n",
       "    }\n",
       "\n",
       "    .dataframe thead tr th {\n",
       "        text-align: left;\n",
       "    }\n",
       "\n",
       "    .dataframe thead tr:last-of-type th {\n",
       "        text-align: right;\n",
       "    }\n",
       "</style>\n",
       "<table border=\"1\" class=\"dataframe\">\n",
       "  <thead>\n",
       "    <tr>\n",
       "      <th></th>\n",
       "      <th colspan=\"3\" halign=\"left\">median_prior_order</th>\n",
       "      <th colspan=\"3\" halign=\"left\">prices</th>\n",
       "    </tr>\n",
       "    <tr>\n",
       "      <th></th>\n",
       "      <th>mean</th>\n",
       "      <th>min</th>\n",
       "      <th>max</th>\n",
       "      <th>mean</th>\n",
       "      <th>min</th>\n",
       "      <th>max</th>\n",
       "    </tr>\n",
       "    <tr>\n",
       "      <th>age_group</th>\n",
       "      <th></th>\n",
       "      <th></th>\n",
       "      <th></th>\n",
       "      <th></th>\n",
       "      <th></th>\n",
       "      <th></th>\n",
       "    </tr>\n",
       "  </thead>\n",
       "  <tbody>\n",
       "    <tr>\n",
       "      <th>18-24 years</th>\n",
       "      <td>9.911733</td>\n",
       "      <td>0.0</td>\n",
       "      <td>30.0</td>\n",
       "      <td>12.444676</td>\n",
       "      <td>1.0</td>\n",
       "      <td>99999.0</td>\n",
       "    </tr>\n",
       "    <tr>\n",
       "      <th>25-34 years</th>\n",
       "      <td>9.993060</td>\n",
       "      <td>0.0</td>\n",
       "      <td>30.0</td>\n",
       "      <td>11.914146</td>\n",
       "      <td>1.0</td>\n",
       "      <td>99999.0</td>\n",
       "    </tr>\n",
       "    <tr>\n",
       "      <th>35-44 years</th>\n",
       "      <td>9.922247</td>\n",
       "      <td>0.0</td>\n",
       "      <td>30.0</td>\n",
       "      <td>11.532103</td>\n",
       "      <td>1.0</td>\n",
       "      <td>99999.0</td>\n",
       "    </tr>\n",
       "    <tr>\n",
       "      <th>45-54 years</th>\n",
       "      <td>9.978839</td>\n",
       "      <td>0.0</td>\n",
       "      <td>30.0</td>\n",
       "      <td>11.942770</td>\n",
       "      <td>1.0</td>\n",
       "      <td>99999.0</td>\n",
       "    </tr>\n",
       "    <tr>\n",
       "      <th>55-64 years</th>\n",
       "      <td>10.007535</td>\n",
       "      <td>0.0</td>\n",
       "      <td>30.0</td>\n",
       "      <td>12.284287</td>\n",
       "      <td>1.0</td>\n",
       "      <td>99999.0</td>\n",
       "    </tr>\n",
       "    <tr>\n",
       "      <th>65+ years</th>\n",
       "      <td>9.933025</td>\n",
       "      <td>0.0</td>\n",
       "      <td>30.0</td>\n",
       "      <td>11.757768</td>\n",
       "      <td>1.0</td>\n",
       "      <td>99999.0</td>\n",
       "    </tr>\n",
       "  </tbody>\n",
       "</table>\n",
       "</div>"
      ],
      "text/plain": [
       "            median_prior_order                prices              \n",
       "                          mean  min   max       mean  min      max\n",
       "age_group                                                         \n",
       "18-24 years           9.911733  0.0  30.0  12.444676  1.0  99999.0\n",
       "25-34 years           9.993060  0.0  30.0  11.914146  1.0  99999.0\n",
       "35-44 years           9.922247  0.0  30.0  11.532103  1.0  99999.0\n",
       "45-54 years           9.978839  0.0  30.0  11.942770  1.0  99999.0\n",
       "55-64 years          10.007535  0.0  30.0  12.284287  1.0  99999.0\n",
       "65+ years             9.933025  0.0  30.0  11.757768  1.0  99999.0"
      ]
     },
     "execution_count": 47,
     "metadata": {},
     "output_type": "execute_result"
    }
   ],
   "source": [
    "df.groupby(['age_group']).agg({'median_prior_order':['mean', 'min', 'max'], 'prices':['mean', 'min', 'max']})"
   ]
  },
  {
   "cell_type": "code",
   "execution_count": 48,
   "id": "89554f29",
   "metadata": {},
   "outputs": [
    {
     "data": {
      "text/html": [
       "<div>\n",
       "<style scoped>\n",
       "    .dataframe tbody tr th:only-of-type {\n",
       "        vertical-align: middle;\n",
       "    }\n",
       "\n",
       "    .dataframe tbody tr th {\n",
       "        vertical-align: top;\n",
       "    }\n",
       "\n",
       "    .dataframe thead tr th {\n",
       "        text-align: left;\n",
       "    }\n",
       "\n",
       "    .dataframe thead tr:last-of-type th {\n",
       "        text-align: right;\n",
       "    }\n",
       "</style>\n",
       "<table border=\"1\" class=\"dataframe\">\n",
       "  <thead>\n",
       "    <tr>\n",
       "      <th></th>\n",
       "      <th colspan=\"3\" halign=\"left\">median_prior_order</th>\n",
       "      <th colspan=\"3\" halign=\"left\">prices</th>\n",
       "    </tr>\n",
       "    <tr>\n",
       "      <th></th>\n",
       "      <th>mean</th>\n",
       "      <th>min</th>\n",
       "      <th>max</th>\n",
       "      <th>mean</th>\n",
       "      <th>min</th>\n",
       "      <th>max</th>\n",
       "    </tr>\n",
       "    <tr>\n",
       "      <th>income_group</th>\n",
       "      <th></th>\n",
       "      <th></th>\n",
       "      <th></th>\n",
       "      <th></th>\n",
       "      <th></th>\n",
       "      <th></th>\n",
       "    </tr>\n",
       "  </thead>\n",
       "  <tbody>\n",
       "    <tr>\n",
       "      <th>High</th>\n",
       "      <td>9.842473</td>\n",
       "      <td>0.0</td>\n",
       "      <td>30.0</td>\n",
       "      <td>17.114203</td>\n",
       "      <td>1.0</td>\n",
       "      <td>99999.0</td>\n",
       "    </tr>\n",
       "    <tr>\n",
       "      <th>Low</th>\n",
       "      <td>10.582920</td>\n",
       "      <td>0.0</td>\n",
       "      <td>30.0</td>\n",
       "      <td>6.620117</td>\n",
       "      <td>1.0</td>\n",
       "      <td>25.0</td>\n",
       "    </tr>\n",
       "    <tr>\n",
       "      <th>Middle</th>\n",
       "      <td>9.916977</td>\n",
       "      <td>0.0</td>\n",
       "      <td>30.0</td>\n",
       "      <td>9.097906</td>\n",
       "      <td>1.0</td>\n",
       "      <td>99999.0</td>\n",
       "    </tr>\n",
       "    <tr>\n",
       "      <th>Upper Middle</th>\n",
       "      <td>9.952967</td>\n",
       "      <td>0.0</td>\n",
       "      <td>30.0</td>\n",
       "      <td>10.494612</td>\n",
       "      <td>1.0</td>\n",
       "      <td>99999.0</td>\n",
       "    </tr>\n",
       "    <tr>\n",
       "      <th>Very High</th>\n",
       "      <td>9.030562</td>\n",
       "      <td>1.0</td>\n",
       "      <td>30.0</td>\n",
       "      <td>254.701824</td>\n",
       "      <td>1.0</td>\n",
       "      <td>99999.0</td>\n",
       "    </tr>\n",
       "  </tbody>\n",
       "</table>\n",
       "</div>"
      ],
      "text/plain": [
       "             median_prior_order                 prices              \n",
       "                           mean  min   max        mean  min      max\n",
       "income_group                                                        \n",
       "High                   9.842473  0.0  30.0   17.114203  1.0  99999.0\n",
       "Low                   10.582920  0.0  30.0    6.620117  1.0     25.0\n",
       "Middle                 9.916977  0.0  30.0    9.097906  1.0  99999.0\n",
       "Upper Middle           9.952967  0.0  30.0   10.494612  1.0  99999.0\n",
       "Very High              9.030562  1.0  30.0  254.701824  1.0  99999.0"
      ]
     },
     "execution_count": 48,
     "metadata": {},
     "output_type": "execute_result"
    }
   ],
   "source": [
    "df.groupby(['income_group']).agg({'median_prior_order':['mean', 'min', 'max'], 'prices':['mean', 'min', 'max']})"
   ]
  },
  {
   "cell_type": "code",
   "execution_count": 49,
   "id": "b9380384",
   "metadata": {},
   "outputs": [
    {
     "data": {
      "text/html": [
       "<div>\n",
       "<style scoped>\n",
       "    .dataframe tbody tr th:only-of-type {\n",
       "        vertical-align: middle;\n",
       "    }\n",
       "\n",
       "    .dataframe tbody tr th {\n",
       "        vertical-align: top;\n",
       "    }\n",
       "\n",
       "    .dataframe thead tr th {\n",
       "        text-align: left;\n",
       "    }\n",
       "\n",
       "    .dataframe thead tr:last-of-type th {\n",
       "        text-align: right;\n",
       "    }\n",
       "</style>\n",
       "<table border=\"1\" class=\"dataframe\">\n",
       "  <thead>\n",
       "    <tr>\n",
       "      <th></th>\n",
       "      <th colspan=\"3\" halign=\"left\">median_prior_order</th>\n",
       "      <th colspan=\"3\" halign=\"left\">prices</th>\n",
       "    </tr>\n",
       "    <tr>\n",
       "      <th></th>\n",
       "      <th>mean</th>\n",
       "      <th>min</th>\n",
       "      <th>max</th>\n",
       "      <th>mean</th>\n",
       "      <th>min</th>\n",
       "      <th>max</th>\n",
       "    </tr>\n",
       "    <tr>\n",
       "      <th>dependent_group</th>\n",
       "      <th></th>\n",
       "      <th></th>\n",
       "      <th></th>\n",
       "      <th></th>\n",
       "      <th></th>\n",
       "      <th></th>\n",
       "    </tr>\n",
       "  </thead>\n",
       "  <tbody>\n",
       "    <tr>\n",
       "      <th>has dependents</th>\n",
       "      <td>9.963995</td>\n",
       "      <td>0.0</td>\n",
       "      <td>30.0</td>\n",
       "      <td>11.877157</td>\n",
       "      <td>1.0</td>\n",
       "      <td>99999.0</td>\n",
       "    </tr>\n",
       "    <tr>\n",
       "      <th>no dependents</th>\n",
       "      <td>9.936569</td>\n",
       "      <td>0.0</td>\n",
       "      <td>30.0</td>\n",
       "      <td>12.102657</td>\n",
       "      <td>1.0</td>\n",
       "      <td>99999.0</td>\n",
       "    </tr>\n",
       "  </tbody>\n",
       "</table>\n",
       "</div>"
      ],
      "text/plain": [
       "                median_prior_order                prices              \n",
       "                              mean  min   max       mean  min      max\n",
       "dependent_group                                                       \n",
       "has dependents            9.963995  0.0  30.0  11.877157  1.0  99999.0\n",
       "no dependents             9.936569  0.0  30.0  12.102657  1.0  99999.0"
      ]
     },
     "execution_count": 49,
     "metadata": {},
     "output_type": "execute_result"
    }
   ],
   "source": [
    "df.groupby(['dependent_group']).agg({'median_prior_order':['mean', 'min', 'max'], 'prices':['mean', 'min', 'max']})"
   ]
  },
  {
   "cell_type": "code",
   "execution_count": 52,
   "id": "070b4cd2",
   "metadata": {
    "scrolled": true
   },
   "outputs": [
    {
     "data": {
      "text/html": [
       "<div>\n",
       "<style scoped>\n",
       "    .dataframe tbody tr th:only-of-type {\n",
       "        vertical-align: middle;\n",
       "    }\n",
       "\n",
       "    .dataframe tbody tr th {\n",
       "        vertical-align: top;\n",
       "    }\n",
       "\n",
       "    .dataframe thead tr th {\n",
       "        text-align: left;\n",
       "    }\n",
       "\n",
       "    .dataframe thead tr:last-of-type th {\n",
       "        text-align: right;\n",
       "    }\n",
       "</style>\n",
       "<table border=\"1\" class=\"dataframe\">\n",
       "  <thead>\n",
       "    <tr>\n",
       "      <th></th>\n",
       "      <th colspan=\"3\" halign=\"left\">median_prior_order</th>\n",
       "      <th colspan=\"3\" halign=\"left\">prices</th>\n",
       "    </tr>\n",
       "    <tr>\n",
       "      <th></th>\n",
       "      <th>mean</th>\n",
       "      <th>min</th>\n",
       "      <th>max</th>\n",
       "      <th>mean</th>\n",
       "      <th>min</th>\n",
       "      <th>max</th>\n",
       "    </tr>\n",
       "    <tr>\n",
       "      <th>family_status</th>\n",
       "      <th></th>\n",
       "      <th></th>\n",
       "      <th></th>\n",
       "      <th></th>\n",
       "      <th></th>\n",
       "      <th></th>\n",
       "    </tr>\n",
       "  </thead>\n",
       "  <tbody>\n",
       "    <tr>\n",
       "      <th>divorced/widowed</th>\n",
       "      <td>9.874549</td>\n",
       "      <td>0.0</td>\n",
       "      <td>30.0</td>\n",
       "      <td>11.532741</td>\n",
       "      <td>1.0</td>\n",
       "      <td>99999.0</td>\n",
       "    </tr>\n",
       "    <tr>\n",
       "      <th>living with parents and siblings</th>\n",
       "      <td>9.869971</td>\n",
       "      <td>0.0</td>\n",
       "      <td>30.0</td>\n",
       "      <td>10.890167</td>\n",
       "      <td>1.0</td>\n",
       "      <td>99999.0</td>\n",
       "    </tr>\n",
       "    <tr>\n",
       "      <th>married</th>\n",
       "      <td>9.970400</td>\n",
       "      <td>0.0</td>\n",
       "      <td>30.0</td>\n",
       "      <td>11.944390</td>\n",
       "      <td>1.0</td>\n",
       "      <td>99999.0</td>\n",
       "    </tr>\n",
       "    <tr>\n",
       "      <th>single</th>\n",
       "      <td>9.968773</td>\n",
       "      <td>0.0</td>\n",
       "      <td>30.0</td>\n",
       "      <td>12.398586</td>\n",
       "      <td>1.0</td>\n",
       "      <td>99999.0</td>\n",
       "    </tr>\n",
       "  </tbody>\n",
       "</table>\n",
       "</div>"
      ],
      "text/plain": [
       "                                 median_prior_order                prices  \\\n",
       "                                               mean  min   max       mean   \n",
       "family_status                                                               \n",
       "divorced/widowed                           9.874549  0.0  30.0  11.532741   \n",
       "living with parents and siblings           9.869971  0.0  30.0  10.890167   \n",
       "married                                    9.970400  0.0  30.0  11.944390   \n",
       "single                                     9.968773  0.0  30.0  12.398586   \n",
       "\n",
       "                                                \n",
       "                                  min      max  \n",
       "family_status                                   \n",
       "divorced/widowed                  1.0  99999.0  \n",
       "living with parents and siblings  1.0  99999.0  \n",
       "married                           1.0  99999.0  \n",
       "single                            1.0  99999.0  "
      ]
     },
     "execution_count": 52,
     "metadata": {},
     "output_type": "execute_result"
    }
   ],
   "source": [
    "df.groupby(['family_status']).agg({'median_prior_order':['mean', 'min', 'max'], 'prices':['mean', 'min', 'max']})"
   ]
  },
  {
   "cell_type": "code",
   "execution_count": 53,
   "id": "78698fcb",
   "metadata": {},
   "outputs": [
    {
     "data": {
      "text/html": [
       "<div>\n",
       "<style scoped>\n",
       "    .dataframe tbody tr th:only-of-type {\n",
       "        vertical-align: middle;\n",
       "    }\n",
       "\n",
       "    .dataframe tbody tr th {\n",
       "        vertical-align: top;\n",
       "    }\n",
       "\n",
       "    .dataframe thead tr th {\n",
       "        text-align: left;\n",
       "    }\n",
       "\n",
       "    .dataframe thead tr:last-of-type th {\n",
       "        text-align: right;\n",
       "    }\n",
       "</style>\n",
       "<table border=\"1\" class=\"dataframe\">\n",
       "  <thead>\n",
       "    <tr>\n",
       "      <th></th>\n",
       "      <th colspan=\"3\" halign=\"left\">median_prior_order</th>\n",
       "    </tr>\n",
       "    <tr>\n",
       "      <th></th>\n",
       "      <th>mean</th>\n",
       "      <th>min</th>\n",
       "      <th>max</th>\n",
       "    </tr>\n",
       "    <tr>\n",
       "      <th>order_time_group</th>\n",
       "      <th></th>\n",
       "      <th></th>\n",
       "      <th></th>\n",
       "    </tr>\n",
       "  </thead>\n",
       "  <tbody>\n",
       "    <tr>\n",
       "      <th>Afternoon</th>\n",
       "      <td>10.154720</td>\n",
       "      <td>0.0</td>\n",
       "      <td>30.0</td>\n",
       "    </tr>\n",
       "    <tr>\n",
       "      <th>Early Birds</th>\n",
       "      <td>9.081189</td>\n",
       "      <td>0.0</td>\n",
       "      <td>30.0</td>\n",
       "    </tr>\n",
       "    <tr>\n",
       "      <th>Evening</th>\n",
       "      <td>10.280732</td>\n",
       "      <td>0.0</td>\n",
       "      <td>30.0</td>\n",
       "    </tr>\n",
       "    <tr>\n",
       "      <th>Morning</th>\n",
       "      <td>9.563031</td>\n",
       "      <td>0.0</td>\n",
       "      <td>30.0</td>\n",
       "    </tr>\n",
       "    <tr>\n",
       "      <th>Night Owls</th>\n",
       "      <td>10.113661</td>\n",
       "      <td>0.0</td>\n",
       "      <td>30.0</td>\n",
       "    </tr>\n",
       "  </tbody>\n",
       "</table>\n",
       "</div>"
      ],
      "text/plain": [
       "                 median_prior_order           \n",
       "                               mean  min   max\n",
       "order_time_group                              \n",
       "Afternoon                 10.154720  0.0  30.0\n",
       "Early Birds                9.081189  0.0  30.0\n",
       "Evening                   10.280732  0.0  30.0\n",
       "Morning                    9.563031  0.0  30.0\n",
       "Night Owls                10.113661  0.0  30.0"
      ]
     },
     "execution_count": 53,
     "metadata": {},
     "output_type": "execute_result"
    }
   ],
   "source": [
    "df.groupby(['order_time_group']).agg({'median_prior_order':['mean', 'min', 'max']})"
   ]
  },
  {
   "cell_type": "markdown",
   "id": "3a677eac",
   "metadata": {},
   "source": [
    "## 8. customer comparisons"
   ]
  },
  {
   "cell_type": "code",
   "execution_count": 54,
   "id": "8387748a",
   "metadata": {},
   "outputs": [],
   "source": [
    "crosstab1 = pd.crosstab(df['geographic_region'], df['spending_flag'], dropna=False)"
   ]
  },
  {
   "cell_type": "code",
   "execution_count": 55,
   "id": "6be6590a",
   "metadata": {
    "scrolled": true
   },
   "outputs": [
    {
     "data": {
      "text/html": [
       "<div>\n",
       "<style scoped>\n",
       "    .dataframe tbody tr th:only-of-type {\n",
       "        vertical-align: middle;\n",
       "    }\n",
       "\n",
       "    .dataframe tbody tr th {\n",
       "        vertical-align: top;\n",
       "    }\n",
       "\n",
       "    .dataframe thead th {\n",
       "        text-align: right;\n",
       "    }\n",
       "</style>\n",
       "<table border=\"1\" class=\"dataframe\">\n",
       "  <thead>\n",
       "    <tr style=\"text-align: right;\">\n",
       "      <th>spending_flag</th>\n",
       "      <th>Big spender</th>\n",
       "      <th>Low spender</th>\n",
       "    </tr>\n",
       "    <tr>\n",
       "      <th>geographic_region</th>\n",
       "      <th></th>\n",
       "      <th></th>\n",
       "    </tr>\n",
       "  </thead>\n",
       "  <tbody>\n",
       "    <tr>\n",
       "      <th>Midwest</th>\n",
       "      <td>148678</td>\n",
       "      <td>7112835</td>\n",
       "    </tr>\n",
       "    <tr>\n",
       "      <th>Northeast</th>\n",
       "      <td>103120</td>\n",
       "      <td>5361565</td>\n",
       "    </tr>\n",
       "    <tr>\n",
       "      <th>South</th>\n",
       "      <td>199339</td>\n",
       "      <td>10111800</td>\n",
       "    </tr>\n",
       "    <tr>\n",
       "      <th>West</th>\n",
       "      <td>152288</td>\n",
       "      <td>7774939</td>\n",
       "    </tr>\n",
       "  </tbody>\n",
       "</table>\n",
       "</div>"
      ],
      "text/plain": [
       "spending_flag      Big spender  Low spender\n",
       "geographic_region                          \n",
       "Midwest                 148678      7112835\n",
       "Northeast               103120      5361565\n",
       "South                   199339     10111800\n",
       "West                    152288      7774939"
      ]
     },
     "execution_count": 55,
     "metadata": {},
     "output_type": "execute_result"
    }
   ],
   "source": [
    "crosstab1"
   ]
  },
  {
   "cell_type": "code",
   "execution_count": 57,
   "id": "89412f16",
   "metadata": {},
   "outputs": [],
   "source": [
    "crosstab1.to_clipboard()"
   ]
  },
  {
   "cell_type": "code",
   "execution_count": 58,
   "id": "66cc5966",
   "metadata": {},
   "outputs": [],
   "source": [
    "crosstab2 = pd.crosstab(df['geographic_region'], df['frequency_flag'], dropna=False)"
   ]
  },
  {
   "cell_type": "code",
   "execution_count": 59,
   "id": "bb1698f4",
   "metadata": {
    "scrolled": true
   },
   "outputs": [
    {
     "data": {
      "text/html": [
       "<div>\n",
       "<style scoped>\n",
       "    .dataframe tbody tr th:only-of-type {\n",
       "        vertical-align: middle;\n",
       "    }\n",
       "\n",
       "    .dataframe tbody tr th {\n",
       "        vertical-align: top;\n",
       "    }\n",
       "\n",
       "    .dataframe thead th {\n",
       "        text-align: right;\n",
       "    }\n",
       "</style>\n",
       "<table border=\"1\" class=\"dataframe\">\n",
       "  <thead>\n",
       "    <tr style=\"text-align: right;\">\n",
       "      <th>frequency_flag</th>\n",
       "      <th>Frequent Customer</th>\n",
       "      <th>Non-Frequent Customer</th>\n",
       "      <th>Regular-Frequency Customer</th>\n",
       "    </tr>\n",
       "    <tr>\n",
       "      <th>geographic_region</th>\n",
       "      <th></th>\n",
       "      <th></th>\n",
       "      <th></th>\n",
       "    </tr>\n",
       "  </thead>\n",
       "  <tbody>\n",
       "    <tr>\n",
       "      <th>Midwest</th>\n",
       "      <td>4935393</td>\n",
       "      <td>690030</td>\n",
       "      <td>1636090</td>\n",
       "    </tr>\n",
       "    <tr>\n",
       "      <th>Northeast</th>\n",
       "      <td>3740982</td>\n",
       "      <td>496911</td>\n",
       "      <td>1226792</td>\n",
       "    </tr>\n",
       "    <tr>\n",
       "      <th>South</th>\n",
       "      <td>7073789</td>\n",
       "      <td>968006</td>\n",
       "      <td>2269344</td>\n",
       "    </tr>\n",
       "    <tr>\n",
       "      <th>West</th>\n",
       "      <td>5454312</td>\n",
       "      <td>740028</td>\n",
       "      <td>1732887</td>\n",
       "    </tr>\n",
       "  </tbody>\n",
       "</table>\n",
       "</div>"
      ],
      "text/plain": [
       "frequency_flag     Frequent Customer  Non-Frequent Customer  \\\n",
       "geographic_region                                             \n",
       "Midwest                      4935393                 690030   \n",
       "Northeast                    3740982                 496911   \n",
       "South                        7073789                 968006   \n",
       "West                         5454312                 740028   \n",
       "\n",
       "frequency_flag     Regular-Frequency Customer  \n",
       "geographic_region                              \n",
       "Midwest                               1636090  \n",
       "Northeast                             1226792  \n",
       "South                                 2269344  \n",
       "West                                  1732887  "
      ]
     },
     "execution_count": 59,
     "metadata": {},
     "output_type": "execute_result"
    }
   ],
   "source": [
    "crosstab2"
   ]
  },
  {
   "cell_type": "markdown",
   "id": "6510f90b",
   "metadata": {},
   "source": [
    "# REgtions and habuts"
   ]
  },
  {
   "cell_type": "code",
   "execution_count": null,
   "id": "7a7175ad",
   "metadata": {},
   "outputs": [],
   "source": []
  },
  {
   "cell_type": "code",
   "execution_count": 60,
   "id": "6420e33b",
   "metadata": {},
   "outputs": [],
   "source": [
    "crosstab2.to_clipboard()"
   ]
  },
  {
   "cell_type": "code",
   "execution_count": 61,
   "id": "c34614f8",
   "metadata": {},
   "outputs": [],
   "source": [
    "crosstab3 = pd.crosstab(df['geographic_region'], df['age_group'], dropna=False)"
   ]
  },
  {
   "cell_type": "code",
   "execution_count": 62,
   "id": "a49f35db",
   "metadata": {
    "scrolled": true
   },
   "outputs": [
    {
     "data": {
      "text/html": [
       "<div>\n",
       "<style scoped>\n",
       "    .dataframe tbody tr th:only-of-type {\n",
       "        vertical-align: middle;\n",
       "    }\n",
       "\n",
       "    .dataframe tbody tr th {\n",
       "        vertical-align: top;\n",
       "    }\n",
       "\n",
       "    .dataframe thead th {\n",
       "        text-align: right;\n",
       "    }\n",
       "</style>\n",
       "<table border=\"1\" class=\"dataframe\">\n",
       "  <thead>\n",
       "    <tr style=\"text-align: right;\">\n",
       "      <th>age_group</th>\n",
       "      <th>18-24 years</th>\n",
       "      <th>25-34 years</th>\n",
       "      <th>35-44 years</th>\n",
       "      <th>45-54 years</th>\n",
       "      <th>55-64 years</th>\n",
       "      <th>65+ years</th>\n",
       "    </tr>\n",
       "    <tr>\n",
       "      <th>geographic_region</th>\n",
       "      <th></th>\n",
       "      <th></th>\n",
       "      <th></th>\n",
       "      <th></th>\n",
       "      <th></th>\n",
       "      <th></th>\n",
       "    </tr>\n",
       "  </thead>\n",
       "  <tbody>\n",
       "    <tr>\n",
       "      <th>Midwest</th>\n",
       "      <td>791626</td>\n",
       "      <td>1120247</td>\n",
       "      <td>1159115</td>\n",
       "      <td>1158154</td>\n",
       "      <td>1128325</td>\n",
       "      <td>1904046</td>\n",
       "    </tr>\n",
       "    <tr>\n",
       "      <th>Northeast</th>\n",
       "      <td>602790</td>\n",
       "      <td>865285</td>\n",
       "      <td>814192</td>\n",
       "      <td>872306</td>\n",
       "      <td>825305</td>\n",
       "      <td>1484807</td>\n",
       "    </tr>\n",
       "    <tr>\n",
       "      <th>South</th>\n",
       "      <td>1165136</td>\n",
       "      <td>1603322</td>\n",
       "      <td>1639254</td>\n",
       "      <td>1587874</td>\n",
       "      <td>1607092</td>\n",
       "      <td>2708461</td>\n",
       "    </tr>\n",
       "    <tr>\n",
       "      <th>West</th>\n",
       "      <td>855642</td>\n",
       "      <td>1238247</td>\n",
       "      <td>1224113</td>\n",
       "      <td>1269230</td>\n",
       "      <td>1241765</td>\n",
       "      <td>2098230</td>\n",
       "    </tr>\n",
       "  </tbody>\n",
       "</table>\n",
       "</div>"
      ],
      "text/plain": [
       "age_group          18-24 years  25-34 years  35-44 years  45-54 years  \\\n",
       "geographic_region                                                       \n",
       "Midwest                 791626      1120247      1159115      1158154   \n",
       "Northeast               602790       865285       814192       872306   \n",
       "South                  1165136      1603322      1639254      1587874   \n",
       "West                    855642      1238247      1224113      1269230   \n",
       "\n",
       "age_group          55-64 years  65+ years  \n",
       "geographic_region                          \n",
       "Midwest                1128325    1904046  \n",
       "Northeast               825305    1484807  \n",
       "South                  1607092    2708461  \n",
       "West                   1241765    2098230  "
      ]
     },
     "execution_count": 62,
     "metadata": {},
     "output_type": "execute_result"
    }
   ],
   "source": [
    "crosstab3"
   ]
  },
  {
   "cell_type": "code",
   "execution_count": 63,
   "id": "e908c2b4",
   "metadata": {},
   "outputs": [],
   "source": [
    "crosstab3.to_clipboard()"
   ]
  },
  {
   "cell_type": "code",
   "execution_count": 64,
   "id": "10d71c3d",
   "metadata": {},
   "outputs": [],
   "source": [
    "crosstab4 = pd.crosstab(df['geographic_region'], df['income_group'], dropna=False)"
   ]
  },
  {
   "cell_type": "code",
   "execution_count": 65,
   "id": "efe1c3af",
   "metadata": {
    "scrolled": true
   },
   "outputs": [
    {
     "data": {
      "text/html": [
       "<div>\n",
       "<style scoped>\n",
       "    .dataframe tbody tr th:only-of-type {\n",
       "        vertical-align: middle;\n",
       "    }\n",
       "\n",
       "    .dataframe tbody tr th {\n",
       "        vertical-align: top;\n",
       "    }\n",
       "\n",
       "    .dataframe thead th {\n",
       "        text-align: right;\n",
       "    }\n",
       "</style>\n",
       "<table border=\"1\" class=\"dataframe\">\n",
       "  <thead>\n",
       "    <tr style=\"text-align: right;\">\n",
       "      <th>income_group</th>\n",
       "      <th>High</th>\n",
       "      <th>Low</th>\n",
       "      <th>Middle</th>\n",
       "      <th>Upper Middle</th>\n",
       "      <th>Very High</th>\n",
       "    </tr>\n",
       "    <tr>\n",
       "      <th>geographic_region</th>\n",
       "      <th></th>\n",
       "      <th></th>\n",
       "      <th></th>\n",
       "      <th></th>\n",
       "      <th></th>\n",
       "    </tr>\n",
       "  </thead>\n",
       "  <tbody>\n",
       "    <tr>\n",
       "      <th>Midwest</th>\n",
       "      <td>853402</td>\n",
       "      <td>572646</td>\n",
       "      <td>5348796</td>\n",
       "      <td>422576</td>\n",
       "      <td>64093</td>\n",
       "    </tr>\n",
       "    <tr>\n",
       "      <th>Northeast</th>\n",
       "      <td>637624</td>\n",
       "      <td>446168</td>\n",
       "      <td>4015280</td>\n",
       "      <td>325507</td>\n",
       "      <td>40106</td>\n",
       "    </tr>\n",
       "    <tr>\n",
       "      <th>South</th>\n",
       "      <td>1207014</td>\n",
       "      <td>854810</td>\n",
       "      <td>7609946</td>\n",
       "      <td>555923</td>\n",
       "      <td>83446</td>\n",
       "    </tr>\n",
       "    <tr>\n",
       "      <th>West</th>\n",
       "      <td>943093</td>\n",
       "      <td>645159</td>\n",
       "      <td>5831004</td>\n",
       "      <td>441474</td>\n",
       "      <td>66497</td>\n",
       "    </tr>\n",
       "  </tbody>\n",
       "</table>\n",
       "</div>"
      ],
      "text/plain": [
       "income_group          High     Low   Middle  Upper Middle  Very High\n",
       "geographic_region                                                   \n",
       "Midwest             853402  572646  5348796        422576      64093\n",
       "Northeast           637624  446168  4015280        325507      40106\n",
       "South              1207014  854810  7609946        555923      83446\n",
       "West                943093  645159  5831004        441474      66497"
      ]
     },
     "execution_count": 65,
     "metadata": {},
     "output_type": "execute_result"
    }
   ],
   "source": [
    "crosstab4"
   ]
  },
  {
   "cell_type": "code",
   "execution_count": 66,
   "id": "916d42c8",
   "metadata": {},
   "outputs": [],
   "source": [
    "crosstab4.to_clipboard()"
   ]
  },
  {
   "cell_type": "code",
   "execution_count": 67,
   "id": "01dcd599",
   "metadata": {},
   "outputs": [],
   "source": [
    "crosstab5 = pd.crosstab(df['geographic_region'], df['dependent_group'], dropna=False)"
   ]
  },
  {
   "cell_type": "code",
   "execution_count": 68,
   "id": "7b50610c",
   "metadata": {
    "scrolled": true
   },
   "outputs": [
    {
     "data": {
      "text/html": [
       "<div>\n",
       "<style scoped>\n",
       "    .dataframe tbody tr th:only-of-type {\n",
       "        vertical-align: middle;\n",
       "    }\n",
       "\n",
       "    .dataframe tbody tr th {\n",
       "        vertical-align: top;\n",
       "    }\n",
       "\n",
       "    .dataframe thead th {\n",
       "        text-align: right;\n",
       "    }\n",
       "</style>\n",
       "<table border=\"1\" class=\"dataframe\">\n",
       "  <thead>\n",
       "    <tr style=\"text-align: right;\">\n",
       "      <th>dependent_group</th>\n",
       "      <th>has dependents</th>\n",
       "      <th>no dependents</th>\n",
       "    </tr>\n",
       "    <tr>\n",
       "      <th>geographic_region</th>\n",
       "      <th></th>\n",
       "      <th></th>\n",
       "    </tr>\n",
       "  </thead>\n",
       "  <tbody>\n",
       "    <tr>\n",
       "      <th>Midwest</th>\n",
       "      <td>5438697</td>\n",
       "      <td>1822816</td>\n",
       "    </tr>\n",
       "    <tr>\n",
       "      <th>Northeast</th>\n",
       "      <td>4110203</td>\n",
       "      <td>1354482</td>\n",
       "    </tr>\n",
       "    <tr>\n",
       "      <th>South</th>\n",
       "      <td>7729206</td>\n",
       "      <td>2581933</td>\n",
       "    </tr>\n",
       "    <tr>\n",
       "      <th>West</th>\n",
       "      <td>5946777</td>\n",
       "      <td>1980450</td>\n",
       "    </tr>\n",
       "  </tbody>\n",
       "</table>\n",
       "</div>"
      ],
      "text/plain": [
       "dependent_group    has dependents  no dependents\n",
       "geographic_region                               \n",
       "Midwest                   5438697        1822816\n",
       "Northeast                 4110203        1354482\n",
       "South                     7729206        2581933\n",
       "West                      5946777        1980450"
      ]
     },
     "execution_count": 68,
     "metadata": {},
     "output_type": "execute_result"
    }
   ],
   "source": [
    "crosstab5"
   ]
  },
  {
   "cell_type": "code",
   "execution_count": 69,
   "id": "ad00bb9a",
   "metadata": {},
   "outputs": [],
   "source": [
    "crosstab5.to_clipboard()"
   ]
  },
  {
   "cell_type": "code",
   "execution_count": 70,
   "id": "d490c59e",
   "metadata": {},
   "outputs": [],
   "source": [
    "crosstab6 = pd.crosstab(df['geographic_region'], df['family_status'], dropna = False)"
   ]
  },
  {
   "cell_type": "code",
   "execution_count": 71,
   "id": "a3d8cf82",
   "metadata": {
    "scrolled": true
   },
   "outputs": [
    {
     "data": {
      "text/html": [
       "<div>\n",
       "<style scoped>\n",
       "    .dataframe tbody tr th:only-of-type {\n",
       "        vertical-align: middle;\n",
       "    }\n",
       "\n",
       "    .dataframe tbody tr th {\n",
       "        vertical-align: top;\n",
       "    }\n",
       "\n",
       "    .dataframe thead th {\n",
       "        text-align: right;\n",
       "    }\n",
       "</style>\n",
       "<table border=\"1\" class=\"dataframe\">\n",
       "  <thead>\n",
       "    <tr style=\"text-align: right;\">\n",
       "      <th>family_status</th>\n",
       "      <th>divorced/widowed</th>\n",
       "      <th>living with parents and siblings</th>\n",
       "      <th>married</th>\n",
       "      <th>single</th>\n",
       "    </tr>\n",
       "    <tr>\n",
       "      <th>geographic_region</th>\n",
       "      <th></th>\n",
       "      <th></th>\n",
       "      <th></th>\n",
       "      <th></th>\n",
       "    </tr>\n",
       "  </thead>\n",
       "  <tbody>\n",
       "    <tr>\n",
       "      <th>Midwest</th>\n",
       "      <td>617198</td>\n",
       "      <td>351435</td>\n",
       "      <td>5087262</td>\n",
       "      <td>1205618</td>\n",
       "    </tr>\n",
       "    <tr>\n",
       "      <th>Northeast</th>\n",
       "      <td>478767</td>\n",
       "      <td>256430</td>\n",
       "      <td>3853773</td>\n",
       "      <td>875715</td>\n",
       "    </tr>\n",
       "    <tr>\n",
       "      <th>South</th>\n",
       "      <td>877314</td>\n",
       "      <td>505457</td>\n",
       "      <td>7223749</td>\n",
       "      <td>1704619</td>\n",
       "    </tr>\n",
       "    <tr>\n",
       "      <th>West</th>\n",
       "      <td>671992</td>\n",
       "      <td>367850</td>\n",
       "      <td>5578927</td>\n",
       "      <td>1308458</td>\n",
       "    </tr>\n",
       "  </tbody>\n",
       "</table>\n",
       "</div>"
      ],
      "text/plain": [
       "family_status      divorced/widowed  living with parents and siblings  \\\n",
       "geographic_region                                                       \n",
       "Midwest                      617198                            351435   \n",
       "Northeast                    478767                            256430   \n",
       "South                        877314                            505457   \n",
       "West                         671992                            367850   \n",
       "\n",
       "family_status      married   single  \n",
       "geographic_region                    \n",
       "Midwest            5087262  1205618  \n",
       "Northeast          3853773   875715  \n",
       "South              7223749  1704619  \n",
       "West               5578927  1308458  "
      ]
     },
     "execution_count": 71,
     "metadata": {},
     "output_type": "execute_result"
    }
   ],
   "source": [
    "crosstab6"
   ]
  },
  {
   "cell_type": "code",
   "execution_count": 72,
   "id": "291e6916",
   "metadata": {},
   "outputs": [],
   "source": [
    "crosstab6.to_clipboard()"
   ]
  },
  {
   "cell_type": "code",
   "execution_count": 73,
   "id": "a0cb0cb6",
   "metadata": {},
   "outputs": [],
   "source": [
    "crosstab7 = pd.crosstab(df['geographic_region'], df['median_prior_order'], dropna = False)"
   ]
  },
  {
   "cell_type": "code",
   "execution_count": 74,
   "id": "6e4bcaa2",
   "metadata": {
    "scrolled": false
   },
   "outputs": [
    {
     "data": {
      "text/html": [
       "<div>\n",
       "<style scoped>\n",
       "    .dataframe tbody tr th:only-of-type {\n",
       "        vertical-align: middle;\n",
       "    }\n",
       "\n",
       "    .dataframe tbody tr th {\n",
       "        vertical-align: top;\n",
       "    }\n",
       "\n",
       "    .dataframe thead th {\n",
       "        text-align: right;\n",
       "    }\n",
       "</style>\n",
       "<table border=\"1\" class=\"dataframe\">\n",
       "  <thead>\n",
       "    <tr style=\"text-align: right;\">\n",
       "      <th>median_prior_order</th>\n",
       "      <th>0.0</th>\n",
       "      <th>0.5</th>\n",
       "      <th>1.0</th>\n",
       "      <th>1.5</th>\n",
       "      <th>2.0</th>\n",
       "      <th>2.5</th>\n",
       "      <th>3.0</th>\n",
       "      <th>3.5</th>\n",
       "      <th>4.0</th>\n",
       "      <th>4.5</th>\n",
       "      <th>...</th>\n",
       "      <th>25.5</th>\n",
       "      <th>26.0</th>\n",
       "      <th>26.5</th>\n",
       "      <th>27.0</th>\n",
       "      <th>27.5</th>\n",
       "      <th>28.0</th>\n",
       "      <th>28.5</th>\n",
       "      <th>29.0</th>\n",
       "      <th>29.5</th>\n",
       "      <th>30.0</th>\n",
       "    </tr>\n",
       "    <tr>\n",
       "      <th>geographic_region</th>\n",
       "      <th></th>\n",
       "      <th></th>\n",
       "      <th></th>\n",
       "      <th></th>\n",
       "      <th></th>\n",
       "      <th></th>\n",
       "      <th></th>\n",
       "      <th></th>\n",
       "      <th></th>\n",
       "      <th></th>\n",
       "      <th></th>\n",
       "      <th></th>\n",
       "      <th></th>\n",
       "      <th></th>\n",
       "      <th></th>\n",
       "      <th></th>\n",
       "      <th></th>\n",
       "      <th></th>\n",
       "      <th></th>\n",
       "      <th></th>\n",
       "      <th></th>\n",
       "    </tr>\n",
       "  </thead>\n",
       "  <tbody>\n",
       "    <tr>\n",
       "      <th>Midwest</th>\n",
       "      <td>5119</td>\n",
       "      <td>0</td>\n",
       "      <td>28741</td>\n",
       "      <td>64</td>\n",
       "      <td>119752</td>\n",
       "      <td>849</td>\n",
       "      <td>347682</td>\n",
       "      <td>3231</td>\n",
       "      <td>523131</td>\n",
       "      <td>7135</td>\n",
       "      <td>...</td>\n",
       "      <td>2333</td>\n",
       "      <td>31215</td>\n",
       "      <td>1578</td>\n",
       "      <td>37556</td>\n",
       "      <td>1547</td>\n",
       "      <td>42546</td>\n",
       "      <td>1432</td>\n",
       "      <td>26811</td>\n",
       "      <td>891</td>\n",
       "      <td>270888</td>\n",
       "    </tr>\n",
       "    <tr>\n",
       "      <th>Northeast</th>\n",
       "      <td>4847</td>\n",
       "      <td>9</td>\n",
       "      <td>28408</td>\n",
       "      <td>132</td>\n",
       "      <td>101189</td>\n",
       "      <td>663</td>\n",
       "      <td>250552</td>\n",
       "      <td>2789</td>\n",
       "      <td>412891</td>\n",
       "      <td>5254</td>\n",
       "      <td>...</td>\n",
       "      <td>566</td>\n",
       "      <td>27974</td>\n",
       "      <td>490</td>\n",
       "      <td>25037</td>\n",
       "      <td>556</td>\n",
       "      <td>31695</td>\n",
       "      <td>1142</td>\n",
       "      <td>22117</td>\n",
       "      <td>680</td>\n",
       "      <td>198946</td>\n",
       "    </tr>\n",
       "    <tr>\n",
       "      <th>South</th>\n",
       "      <td>10522</td>\n",
       "      <td>32</td>\n",
       "      <td>47973</td>\n",
       "      <td>1149</td>\n",
       "      <td>184035</td>\n",
       "      <td>3245</td>\n",
       "      <td>500174</td>\n",
       "      <td>2394</td>\n",
       "      <td>748468</td>\n",
       "      <td>11101</td>\n",
       "      <td>...</td>\n",
       "      <td>2026</td>\n",
       "      <td>49459</td>\n",
       "      <td>1235</td>\n",
       "      <td>51276</td>\n",
       "      <td>1983</td>\n",
       "      <td>56662</td>\n",
       "      <td>1813</td>\n",
       "      <td>39897</td>\n",
       "      <td>1327</td>\n",
       "      <td>383959</td>\n",
       "    </tr>\n",
       "    <tr>\n",
       "      <th>West</th>\n",
       "      <td>7036</td>\n",
       "      <td>44</td>\n",
       "      <td>41123</td>\n",
       "      <td>185</td>\n",
       "      <td>143972</td>\n",
       "      <td>2110</td>\n",
       "      <td>365094</td>\n",
       "      <td>3338</td>\n",
       "      <td>604550</td>\n",
       "      <td>5494</td>\n",
       "      <td>...</td>\n",
       "      <td>1419</td>\n",
       "      <td>36199</td>\n",
       "      <td>1165</td>\n",
       "      <td>38030</td>\n",
       "      <td>844</td>\n",
       "      <td>44272</td>\n",
       "      <td>1571</td>\n",
       "      <td>29258</td>\n",
       "      <td>1250</td>\n",
       "      <td>296592</td>\n",
       "    </tr>\n",
       "  </tbody>\n",
       "</table>\n",
       "<p>4 rows × 61 columns</p>\n",
       "</div>"
      ],
      "text/plain": [
       "median_prior_order   0.0   0.5    1.0   1.5     2.0   2.5     3.0   3.5   \\\n",
       "geographic_region                                                          \n",
       "Midwest              5119     0  28741    64  119752   849  347682  3231   \n",
       "Northeast            4847     9  28408   132  101189   663  250552  2789   \n",
       "South               10522    32  47973  1149  184035  3245  500174  2394   \n",
       "West                 7036    44  41123   185  143972  2110  365094  3338   \n",
       "\n",
       "median_prior_order    4.0    4.5   ...  25.5   26.0  26.5   27.0  27.5   28.0  \\\n",
       "geographic_region                  ...                                          \n",
       "Midwest             523131   7135  ...  2333  31215  1578  37556  1547  42546   \n",
       "Northeast           412891   5254  ...   566  27974   490  25037   556  31695   \n",
       "South               748468  11101  ...  2026  49459  1235  51276  1983  56662   \n",
       "West                604550   5494  ...  1419  36199  1165  38030   844  44272   \n",
       "\n",
       "median_prior_order  28.5   29.0  29.5    30.0  \n",
       "geographic_region                              \n",
       "Midwest             1432  26811   891  270888  \n",
       "Northeast           1142  22117   680  198946  \n",
       "South               1813  39897  1327  383959  \n",
       "West                1571  29258  1250  296592  \n",
       "\n",
       "[4 rows x 61 columns]"
      ]
     },
     "execution_count": 74,
     "metadata": {},
     "output_type": "execute_result"
    }
   ],
   "source": [
    "crosstab7"
   ]
  },
  {
   "cell_type": "code",
   "execution_count": 77,
   "id": "67b7fa93",
   "metadata": {},
   "outputs": [],
   "source": [
    "crosstab7.to_clipboard()"
   ]
  },
  {
   "cell_type": "code",
   "execution_count": 78,
   "id": "15c50067",
   "metadata": {},
   "outputs": [],
   "source": [
    "crosstab9 = pd.crosstab(df['geographic_region'], df['order_time_group'], dropna = False)"
   ]
  },
  {
   "cell_type": "code",
   "execution_count": 79,
   "id": "1ae54a87",
   "metadata": {
    "scrolled": true
   },
   "outputs": [
    {
     "data": {
      "text/html": [
       "<div>\n",
       "<style scoped>\n",
       "    .dataframe tbody tr th:only-of-type {\n",
       "        vertical-align: middle;\n",
       "    }\n",
       "\n",
       "    .dataframe tbody tr th {\n",
       "        vertical-align: top;\n",
       "    }\n",
       "\n",
       "    .dataframe thead th {\n",
       "        text-align: right;\n",
       "    }\n",
       "</style>\n",
       "<table border=\"1\" class=\"dataframe\">\n",
       "  <thead>\n",
       "    <tr style=\"text-align: right;\">\n",
       "      <th>order_time_group</th>\n",
       "      <th>Afternoon</th>\n",
       "      <th>Early Birds</th>\n",
       "      <th>Evening</th>\n",
       "      <th>Morning</th>\n",
       "      <th>Night Owls</th>\n",
       "    </tr>\n",
       "    <tr>\n",
       "      <th>geographic_region</th>\n",
       "      <th></th>\n",
       "      <th></th>\n",
       "      <th></th>\n",
       "      <th></th>\n",
       "      <th></th>\n",
       "    </tr>\n",
       "  </thead>\n",
       "  <tbody>\n",
       "    <tr>\n",
       "      <th>Midwest</th>\n",
       "      <td>2936875</td>\n",
       "      <td>297755</td>\n",
       "      <td>1519185</td>\n",
       "      <td>2173207</td>\n",
       "      <td>334491</td>\n",
       "    </tr>\n",
       "    <tr>\n",
       "      <th>Northeast</th>\n",
       "      <td>2219998</td>\n",
       "      <td>226832</td>\n",
       "      <td>1125535</td>\n",
       "      <td>1633884</td>\n",
       "      <td>258436</td>\n",
       "    </tr>\n",
       "    <tr>\n",
       "      <th>South</th>\n",
       "      <td>4161531</td>\n",
       "      <td>430788</td>\n",
       "      <td>2141867</td>\n",
       "      <td>3104940</td>\n",
       "      <td>472013</td>\n",
       "    </tr>\n",
       "    <tr>\n",
       "      <th>West</th>\n",
       "      <td>3234217</td>\n",
       "      <td>324032</td>\n",
       "      <td>1634840</td>\n",
       "      <td>2375314</td>\n",
       "      <td>358824</td>\n",
       "    </tr>\n",
       "  </tbody>\n",
       "</table>\n",
       "</div>"
      ],
      "text/plain": [
       "order_time_group   Afternoon  Early Birds  Evening  Morning  Night Owls\n",
       "geographic_region                                                      \n",
       "Midwest              2936875       297755  1519185  2173207      334491\n",
       "Northeast            2219998       226832  1125535  1633884      258436\n",
       "South                4161531       430788  2141867  3104940      472013\n",
       "West                 3234217       324032  1634840  2375314      358824"
      ]
     },
     "execution_count": 79,
     "metadata": {},
     "output_type": "execute_result"
    }
   ],
   "source": [
    "crosstab9"
   ]
  },
  {
   "cell_type": "code",
   "execution_count": 80,
   "id": "618ca223",
   "metadata": {},
   "outputs": [],
   "source": [
    "crosstab9.to_clipboard()"
   ]
  },
  {
   "cell_type": "code",
   "execution_count": 81,
   "id": "3ad971dc",
   "metadata": {},
   "outputs": [],
   "source": [
    "crosstab10 = pd.crosstab(df['geographic_region'], df['department'], dropna = False)"
   ]
  },
  {
   "cell_type": "code",
   "execution_count": 82,
   "id": "2d94ae8d",
   "metadata": {
    "scrolled": true
   },
   "outputs": [
    {
     "data": {
      "text/html": [
       "<div>\n",
       "<style scoped>\n",
       "    .dataframe tbody tr th:only-of-type {\n",
       "        vertical-align: middle;\n",
       "    }\n",
       "\n",
       "    .dataframe tbody tr th {\n",
       "        vertical-align: top;\n",
       "    }\n",
       "\n",
       "    .dataframe thead th {\n",
       "        text-align: right;\n",
       "    }\n",
       "</style>\n",
       "<table border=\"1\" class=\"dataframe\">\n",
       "  <thead>\n",
       "    <tr style=\"text-align: right;\">\n",
       "      <th>department</th>\n",
       "      <th>alcohol</th>\n",
       "      <th>babies</th>\n",
       "      <th>bakery</th>\n",
       "      <th>beverages</th>\n",
       "      <th>breakfast</th>\n",
       "      <th>bulk</th>\n",
       "      <th>canned goods</th>\n",
       "      <th>dairy eggs</th>\n",
       "      <th>deli</th>\n",
       "      <th>dry goods pasta</th>\n",
       "      <th>...</th>\n",
       "      <th>household</th>\n",
       "      <th>international</th>\n",
       "      <th>meat seafood</th>\n",
       "      <th>missing</th>\n",
       "      <th>other</th>\n",
       "      <th>pantry</th>\n",
       "      <th>personal care</th>\n",
       "      <th>pets</th>\n",
       "      <th>produce</th>\n",
       "      <th>snacks</th>\n",
       "    </tr>\n",
       "    <tr>\n",
       "      <th>geographic_region</th>\n",
       "      <th></th>\n",
       "      <th></th>\n",
       "      <th></th>\n",
       "      <th></th>\n",
       "      <th></th>\n",
       "      <th></th>\n",
       "      <th></th>\n",
       "      <th></th>\n",
       "      <th></th>\n",
       "      <th></th>\n",
       "      <th></th>\n",
       "      <th></th>\n",
       "      <th></th>\n",
       "      <th></th>\n",
       "      <th></th>\n",
       "      <th></th>\n",
       "      <th></th>\n",
       "      <th></th>\n",
       "      <th></th>\n",
       "      <th></th>\n",
       "      <th></th>\n",
       "    </tr>\n",
       "  </thead>\n",
       "  <tbody>\n",
       "    <tr>\n",
       "      <th>Midwest</th>\n",
       "      <td>34043</td>\n",
       "      <td>95741</td>\n",
       "      <td>261753</td>\n",
       "      <td>598979</td>\n",
       "      <td>156155</td>\n",
       "      <td>7929</td>\n",
       "      <td>237459</td>\n",
       "      <td>1212490</td>\n",
       "      <td>234464</td>\n",
       "      <td>193463</td>\n",
       "      <td>...</td>\n",
       "      <td>166992</td>\n",
       "      <td>60666</td>\n",
       "      <td>158260</td>\n",
       "      <td>15563</td>\n",
       "      <td>7983</td>\n",
       "      <td>420334</td>\n",
       "      <td>100398</td>\n",
       "      <td>21358</td>\n",
       "      <td>2134115</td>\n",
       "      <td>645143</td>\n",
       "    </tr>\n",
       "    <tr>\n",
       "      <th>Northeast</th>\n",
       "      <td>25017</td>\n",
       "      <td>72712</td>\n",
       "      <td>199300</td>\n",
       "      <td>462929</td>\n",
       "      <td>117904</td>\n",
       "      <td>5599</td>\n",
       "      <td>176936</td>\n",
       "      <td>914616</td>\n",
       "      <td>178398</td>\n",
       "      <td>143817</td>\n",
       "      <td>...</td>\n",
       "      <td>124604</td>\n",
       "      <td>44678</td>\n",
       "      <td>118571</td>\n",
       "      <td>11512</td>\n",
       "      <td>6268</td>\n",
       "      <td>312731</td>\n",
       "      <td>74765</td>\n",
       "      <td>17734</td>\n",
       "      <td>1593004</td>\n",
       "      <td>493154</td>\n",
       "    </tr>\n",
       "    <tr>\n",
       "      <th>South</th>\n",
       "      <td>48813</td>\n",
       "      <td>139511</td>\n",
       "      <td>371620</td>\n",
       "      <td>859419</td>\n",
       "      <td>223172</td>\n",
       "      <td>11180</td>\n",
       "      <td>337458</td>\n",
       "      <td>1723016</td>\n",
       "      <td>333620</td>\n",
       "      <td>272813</td>\n",
       "      <td>...</td>\n",
       "      <td>230061</td>\n",
       "      <td>84649</td>\n",
       "      <td>224120</td>\n",
       "      <td>21787</td>\n",
       "      <td>11579</td>\n",
       "      <td>591754</td>\n",
       "      <td>142496</td>\n",
       "      <td>29909</td>\n",
       "      <td>3027476</td>\n",
       "      <td>916780</td>\n",
       "    </tr>\n",
       "    <tr>\n",
       "      <th>West</th>\n",
       "      <td>36754</td>\n",
       "      <td>102428</td>\n",
       "      <td>288155</td>\n",
       "      <td>650574</td>\n",
       "      <td>173619</td>\n",
       "      <td>8743</td>\n",
       "      <td>260221</td>\n",
       "      <td>1327060</td>\n",
       "      <td>257352</td>\n",
       "      <td>212043</td>\n",
       "      <td>...</td>\n",
       "      <td>178200</td>\n",
       "      <td>65998</td>\n",
       "      <td>173830</td>\n",
       "      <td>15906</td>\n",
       "      <td>8581</td>\n",
       "      <td>457886</td>\n",
       "      <td>106647</td>\n",
       "      <td>24059</td>\n",
       "      <td>2324678</td>\n",
       "      <td>711329</td>\n",
       "    </tr>\n",
       "  </tbody>\n",
       "</table>\n",
       "<p>4 rows × 21 columns</p>\n",
       "</div>"
      ],
      "text/plain": [
       "department         alcohol  babies  bakery  beverages  breakfast   bulk  \\\n",
       "geographic_region                                                         \n",
       "Midwest              34043   95741  261753     598979     156155   7929   \n",
       "Northeast            25017   72712  199300     462929     117904   5599   \n",
       "South                48813  139511  371620     859419     223172  11180   \n",
       "West                 36754  102428  288155     650574     173619   8743   \n",
       "\n",
       "department         canned goods  dairy eggs    deli  dry goods pasta  ...  \\\n",
       "geographic_region                                                     ...   \n",
       "Midwest                  237459     1212490  234464           193463  ...   \n",
       "Northeast                176936      914616  178398           143817  ...   \n",
       "South                    337458     1723016  333620           272813  ...   \n",
       "West                     260221     1327060  257352           212043  ...   \n",
       "\n",
       "department         household  international  meat seafood  missing  other  \\\n",
       "geographic_region                                                           \n",
       "Midwest               166992          60666        158260    15563   7983   \n",
       "Northeast             124604          44678        118571    11512   6268   \n",
       "South                 230061          84649        224120    21787  11579   \n",
       "West                  178200          65998        173830    15906   8581   \n",
       "\n",
       "department         pantry  personal care   pets  produce  snacks  \n",
       "geographic_region                                                 \n",
       "Midwest            420334         100398  21358  2134115  645143  \n",
       "Northeast          312731          74765  17734  1593004  493154  \n",
       "South              591754         142496  29909  3027476  916780  \n",
       "West               457886         106647  24059  2324678  711329  \n",
       "\n",
       "[4 rows x 21 columns]"
      ]
     },
     "execution_count": 82,
     "metadata": {},
     "output_type": "execute_result"
    }
   ],
   "source": [
    "crosstab10"
   ]
  },
  {
   "cell_type": "code",
   "execution_count": 83,
   "id": "9e424cda",
   "metadata": {},
   "outputs": [],
   "source": [
    "crosstab10.to_clipboard()"
   ]
  },
  {
   "cell_type": "code",
   "execution_count": 84,
   "id": "1061e380",
   "metadata": {},
   "outputs": [],
   "source": [
    "crosstab11 = pd.crosstab(df['age_group'], df['department'], dropna = False)"
   ]
  },
  {
   "cell_type": "code",
   "execution_count": 85,
   "id": "0c9be357",
   "metadata": {
    "scrolled": true
   },
   "outputs": [
    {
     "data": {
      "text/html": [
       "<div>\n",
       "<style scoped>\n",
       "    .dataframe tbody tr th:only-of-type {\n",
       "        vertical-align: middle;\n",
       "    }\n",
       "\n",
       "    .dataframe tbody tr th {\n",
       "        vertical-align: top;\n",
       "    }\n",
       "\n",
       "    .dataframe thead th {\n",
       "        text-align: right;\n",
       "    }\n",
       "</style>\n",
       "<table border=\"1\" class=\"dataframe\">\n",
       "  <thead>\n",
       "    <tr style=\"text-align: right;\">\n",
       "      <th>department</th>\n",
       "      <th>alcohol</th>\n",
       "      <th>babies</th>\n",
       "      <th>bakery</th>\n",
       "      <th>beverages</th>\n",
       "      <th>breakfast</th>\n",
       "      <th>bulk</th>\n",
       "      <th>canned goods</th>\n",
       "      <th>dairy eggs</th>\n",
       "      <th>deli</th>\n",
       "      <th>dry goods pasta</th>\n",
       "      <th>...</th>\n",
       "      <th>household</th>\n",
       "      <th>international</th>\n",
       "      <th>meat seafood</th>\n",
       "      <th>missing</th>\n",
       "      <th>other</th>\n",
       "      <th>pantry</th>\n",
       "      <th>personal care</th>\n",
       "      <th>pets</th>\n",
       "      <th>produce</th>\n",
       "      <th>snacks</th>\n",
       "    </tr>\n",
       "    <tr>\n",
       "      <th>age_group</th>\n",
       "      <th></th>\n",
       "      <th></th>\n",
       "      <th></th>\n",
       "      <th></th>\n",
       "      <th></th>\n",
       "      <th></th>\n",
       "      <th></th>\n",
       "      <th></th>\n",
       "      <th></th>\n",
       "      <th></th>\n",
       "      <th></th>\n",
       "      <th></th>\n",
       "      <th></th>\n",
       "      <th></th>\n",
       "      <th></th>\n",
       "      <th></th>\n",
       "      <th></th>\n",
       "      <th></th>\n",
       "      <th></th>\n",
       "      <th></th>\n",
       "      <th></th>\n",
       "    </tr>\n",
       "  </thead>\n",
       "  <tbody>\n",
       "    <tr>\n",
       "      <th>18-24 years</th>\n",
       "      <td>17477</td>\n",
       "      <td>45825</td>\n",
       "      <td>123582</td>\n",
       "      <td>279256</td>\n",
       "      <td>75448</td>\n",
       "      <td>3767</td>\n",
       "      <td>111594</td>\n",
       "      <td>573152</td>\n",
       "      <td>109972</td>\n",
       "      <td>91735</td>\n",
       "      <td>...</td>\n",
       "      <td>77019</td>\n",
       "      <td>28610</td>\n",
       "      <td>75237</td>\n",
       "      <td>7439</td>\n",
       "      <td>3923</td>\n",
       "      <td>196701</td>\n",
       "      <td>46534</td>\n",
       "      <td>11304</td>\n",
       "      <td>999328</td>\n",
       "      <td>303203</td>\n",
       "    </tr>\n",
       "    <tr>\n",
       "      <th>25-34 years</th>\n",
       "      <td>22740</td>\n",
       "      <td>61475</td>\n",
       "      <td>175139</td>\n",
       "      <td>397761</td>\n",
       "      <td>104875</td>\n",
       "      <td>5254</td>\n",
       "      <td>159191</td>\n",
       "      <td>813149</td>\n",
       "      <td>156498</td>\n",
       "      <td>128008</td>\n",
       "      <td>...</td>\n",
       "      <td>107353</td>\n",
       "      <td>40491</td>\n",
       "      <td>103821</td>\n",
       "      <td>10314</td>\n",
       "      <td>5519</td>\n",
       "      <td>277764</td>\n",
       "      <td>65640</td>\n",
       "      <td>13836</td>\n",
       "      <td>1413774</td>\n",
       "      <td>437023</td>\n",
       "    </tr>\n",
       "    <tr>\n",
       "      <th>35-44 years</th>\n",
       "      <td>21138</td>\n",
       "      <td>66978</td>\n",
       "      <td>175306</td>\n",
       "      <td>396177</td>\n",
       "      <td>103957</td>\n",
       "      <td>5187</td>\n",
       "      <td>158006</td>\n",
       "      <td>810319</td>\n",
       "      <td>158055</td>\n",
       "      <td>128157</td>\n",
       "      <td>...</td>\n",
       "      <td>109995</td>\n",
       "      <td>39948</td>\n",
       "      <td>104646</td>\n",
       "      <td>9760</td>\n",
       "      <td>5212</td>\n",
       "      <td>276928</td>\n",
       "      <td>66344</td>\n",
       "      <td>14512</td>\n",
       "      <td>1427214</td>\n",
       "      <td>430067</td>\n",
       "    </tr>\n",
       "    <tr>\n",
       "      <th>45-54 years</th>\n",
       "      <td>23917</td>\n",
       "      <td>67379</td>\n",
       "      <td>176827</td>\n",
       "      <td>410639</td>\n",
       "      <td>106934</td>\n",
       "      <td>5252</td>\n",
       "      <td>159576</td>\n",
       "      <td>814914</td>\n",
       "      <td>156708</td>\n",
       "      <td>129484</td>\n",
       "      <td>...</td>\n",
       "      <td>110616</td>\n",
       "      <td>40849</td>\n",
       "      <td>105382</td>\n",
       "      <td>10680</td>\n",
       "      <td>5448</td>\n",
       "      <td>281463</td>\n",
       "      <td>68143</td>\n",
       "      <td>14163</td>\n",
       "      <td>1424483</td>\n",
       "      <td>437377</td>\n",
       "    </tr>\n",
       "    <tr>\n",
       "      <th>55-64 years</th>\n",
       "      <td>22662</td>\n",
       "      <td>62531</td>\n",
       "      <td>173977</td>\n",
       "      <td>404048</td>\n",
       "      <td>104340</td>\n",
       "      <td>5046</td>\n",
       "      <td>156198</td>\n",
       "      <td>797576</td>\n",
       "      <td>157402</td>\n",
       "      <td>127436</td>\n",
       "      <td>...</td>\n",
       "      <td>108244</td>\n",
       "      <td>38894</td>\n",
       "      <td>104545</td>\n",
       "      <td>9660</td>\n",
       "      <td>5363</td>\n",
       "      <td>277466</td>\n",
       "      <td>66593</td>\n",
       "      <td>14130</td>\n",
       "      <td>1406370</td>\n",
       "      <td>430187</td>\n",
       "    </tr>\n",
       "    <tr>\n",
       "      <th>65+ years</th>\n",
       "      <td>36693</td>\n",
       "      <td>106204</td>\n",
       "      <td>295997</td>\n",
       "      <td>684020</td>\n",
       "      <td>175296</td>\n",
       "      <td>8945</td>\n",
       "      <td>267509</td>\n",
       "      <td>1368072</td>\n",
       "      <td>265199</td>\n",
       "      <td>217316</td>\n",
       "      <td>...</td>\n",
       "      <td>186630</td>\n",
       "      <td>67199</td>\n",
       "      <td>181150</td>\n",
       "      <td>16915</td>\n",
       "      <td>8946</td>\n",
       "      <td>472383</td>\n",
       "      <td>111052</td>\n",
       "      <td>25115</td>\n",
       "      <td>2408104</td>\n",
       "      <td>728549</td>\n",
       "    </tr>\n",
       "  </tbody>\n",
       "</table>\n",
       "<p>6 rows × 21 columns</p>\n",
       "</div>"
      ],
      "text/plain": [
       "department   alcohol  babies  bakery  beverages  breakfast  bulk  \\\n",
       "age_group                                                          \n",
       "18-24 years    17477   45825  123582     279256      75448  3767   \n",
       "25-34 years    22740   61475  175139     397761     104875  5254   \n",
       "35-44 years    21138   66978  175306     396177     103957  5187   \n",
       "45-54 years    23917   67379  176827     410639     106934  5252   \n",
       "55-64 years    22662   62531  173977     404048     104340  5046   \n",
       "65+ years      36693  106204  295997     684020     175296  8945   \n",
       "\n",
       "department   canned goods  dairy eggs    deli  dry goods pasta  ...  \\\n",
       "age_group                                                       ...   \n",
       "18-24 years        111594      573152  109972            91735  ...   \n",
       "25-34 years        159191      813149  156498           128008  ...   \n",
       "35-44 years        158006      810319  158055           128157  ...   \n",
       "45-54 years        159576      814914  156708           129484  ...   \n",
       "55-64 years        156198      797576  157402           127436  ...   \n",
       "65+ years          267509     1368072  265199           217316  ...   \n",
       "\n",
       "department   household  international  meat seafood  missing  other  pantry  \\\n",
       "age_group                                                                     \n",
       "18-24 years      77019          28610         75237     7439   3923  196701   \n",
       "25-34 years     107353          40491        103821    10314   5519  277764   \n",
       "35-44 years     109995          39948        104646     9760   5212  276928   \n",
       "45-54 years     110616          40849        105382    10680   5448  281463   \n",
       "55-64 years     108244          38894        104545     9660   5363  277466   \n",
       "65+ years       186630          67199        181150    16915   8946  472383   \n",
       "\n",
       "department   personal care   pets  produce  snacks  \n",
       "age_group                                           \n",
       "18-24 years          46534  11304   999328  303203  \n",
       "25-34 years          65640  13836  1413774  437023  \n",
       "35-44 years          66344  14512  1427214  430067  \n",
       "45-54 years          68143  14163  1424483  437377  \n",
       "55-64 years          66593  14130  1406370  430187  \n",
       "65+ years           111052  25115  2408104  728549  \n",
       "\n",
       "[6 rows x 21 columns]"
      ]
     },
     "execution_count": 85,
     "metadata": {},
     "output_type": "execute_result"
    }
   ],
   "source": [
    "crosstab11"
   ]
  },
  {
   "cell_type": "code",
   "execution_count": 86,
   "id": "5d3c024c",
   "metadata": {},
   "outputs": [],
   "source": [
    "crosstab11.to_clipboard()"
   ]
  },
  {
   "cell_type": "code",
   "execution_count": 87,
   "id": "92e05c1f",
   "metadata": {},
   "outputs": [],
   "source": [
    "crosstab12 = pd.crosstab(df['income_group'], df['median_prior_order'], dropna = False)"
   ]
  },
  {
   "cell_type": "code",
   "execution_count": 88,
   "id": "2e7a58c4",
   "metadata": {
    "scrolled": true
   },
   "outputs": [
    {
     "data": {
      "text/html": [
       "<div>\n",
       "<style scoped>\n",
       "    .dataframe tbody tr th:only-of-type {\n",
       "        vertical-align: middle;\n",
       "    }\n",
       "\n",
       "    .dataframe tbody tr th {\n",
       "        vertical-align: top;\n",
       "    }\n",
       "\n",
       "    .dataframe thead th {\n",
       "        text-align: right;\n",
       "    }\n",
       "</style>\n",
       "<table border=\"1\" class=\"dataframe\">\n",
       "  <thead>\n",
       "    <tr style=\"text-align: right;\">\n",
       "      <th>median_prior_order</th>\n",
       "      <th>0.0</th>\n",
       "      <th>0.5</th>\n",
       "      <th>1.0</th>\n",
       "      <th>1.5</th>\n",
       "      <th>2.0</th>\n",
       "      <th>2.5</th>\n",
       "      <th>3.0</th>\n",
       "      <th>3.5</th>\n",
       "      <th>4.0</th>\n",
       "      <th>4.5</th>\n",
       "      <th>...</th>\n",
       "      <th>25.5</th>\n",
       "      <th>26.0</th>\n",
       "      <th>26.5</th>\n",
       "      <th>27.0</th>\n",
       "      <th>27.5</th>\n",
       "      <th>28.0</th>\n",
       "      <th>28.5</th>\n",
       "      <th>29.0</th>\n",
       "      <th>29.5</th>\n",
       "      <th>30.0</th>\n",
       "    </tr>\n",
       "    <tr>\n",
       "      <th>income_group</th>\n",
       "      <th></th>\n",
       "      <th></th>\n",
       "      <th></th>\n",
       "      <th></th>\n",
       "      <th></th>\n",
       "      <th></th>\n",
       "      <th></th>\n",
       "      <th></th>\n",
       "      <th></th>\n",
       "      <th></th>\n",
       "      <th></th>\n",
       "      <th></th>\n",
       "      <th></th>\n",
       "      <th></th>\n",
       "      <th></th>\n",
       "      <th></th>\n",
       "      <th></th>\n",
       "      <th></th>\n",
       "      <th></th>\n",
       "      <th></th>\n",
       "      <th></th>\n",
       "    </tr>\n",
       "  </thead>\n",
       "  <tbody>\n",
       "    <tr>\n",
       "      <th>High</th>\n",
       "      <td>4361</td>\n",
       "      <td>0</td>\n",
       "      <td>12327</td>\n",
       "      <td>5</td>\n",
       "      <td>75227</td>\n",
       "      <td>690</td>\n",
       "      <td>162356</td>\n",
       "      <td>2551</td>\n",
       "      <td>281445</td>\n",
       "      <td>3227</td>\n",
       "      <td>...</td>\n",
       "      <td>523</td>\n",
       "      <td>15750</td>\n",
       "      <td>243</td>\n",
       "      <td>17112</td>\n",
       "      <td>876</td>\n",
       "      <td>22813</td>\n",
       "      <td>369</td>\n",
       "      <td>14885</td>\n",
       "      <td>415</td>\n",
       "      <td>131267</td>\n",
       "    </tr>\n",
       "    <tr>\n",
       "      <th>Low</th>\n",
       "      <td>1082</td>\n",
       "      <td>0</td>\n",
       "      <td>16507</td>\n",
       "      <td>0</td>\n",
       "      <td>45099</td>\n",
       "      <td>676</td>\n",
       "      <td>105155</td>\n",
       "      <td>1172</td>\n",
       "      <td>143493</td>\n",
       "      <td>2607</td>\n",
       "      <td>...</td>\n",
       "      <td>481</td>\n",
       "      <td>14894</td>\n",
       "      <td>638</td>\n",
       "      <td>16392</td>\n",
       "      <td>318</td>\n",
       "      <td>17013</td>\n",
       "      <td>773</td>\n",
       "      <td>13062</td>\n",
       "      <td>504</td>\n",
       "      <td>119274</td>\n",
       "    </tr>\n",
       "    <tr>\n",
       "      <th>Middle</th>\n",
       "      <td>21814</td>\n",
       "      <td>66</td>\n",
       "      <td>105620</td>\n",
       "      <td>1525</td>\n",
       "      <td>401304</td>\n",
       "      <td>5103</td>\n",
       "      <td>1083311</td>\n",
       "      <td>7473</td>\n",
       "      <td>1718034</td>\n",
       "      <td>21401</td>\n",
       "      <td>...</td>\n",
       "      <td>4664</td>\n",
       "      <td>106512</td>\n",
       "      <td>3347</td>\n",
       "      <td>108277</td>\n",
       "      <td>3558</td>\n",
       "      <td>124674</td>\n",
       "      <td>4392</td>\n",
       "      <td>83188</td>\n",
       "      <td>2778</td>\n",
       "      <td>833795</td>\n",
       "    </tr>\n",
       "    <tr>\n",
       "      <th>Upper Middle</th>\n",
       "      <td>267</td>\n",
       "      <td>19</td>\n",
       "      <td>9558</td>\n",
       "      <td>0</td>\n",
       "      <td>22863</td>\n",
       "      <td>398</td>\n",
       "      <td>93597</td>\n",
       "      <td>372</td>\n",
       "      <td>126780</td>\n",
       "      <td>1749</td>\n",
       "      <td>...</td>\n",
       "      <td>616</td>\n",
       "      <td>6720</td>\n",
       "      <td>240</td>\n",
       "      <td>9728</td>\n",
       "      <td>178</td>\n",
       "      <td>10029</td>\n",
       "      <td>424</td>\n",
       "      <td>6685</td>\n",
       "      <td>451</td>\n",
       "      <td>60933</td>\n",
       "    </tr>\n",
       "    <tr>\n",
       "      <th>Very High</th>\n",
       "      <td>0</td>\n",
       "      <td>0</td>\n",
       "      <td>2233</td>\n",
       "      <td>0</td>\n",
       "      <td>4455</td>\n",
       "      <td>0</td>\n",
       "      <td>19083</td>\n",
       "      <td>184</td>\n",
       "      <td>19288</td>\n",
       "      <td>0</td>\n",
       "      <td>...</td>\n",
       "      <td>60</td>\n",
       "      <td>971</td>\n",
       "      <td>0</td>\n",
       "      <td>390</td>\n",
       "      <td>0</td>\n",
       "      <td>646</td>\n",
       "      <td>0</td>\n",
       "      <td>263</td>\n",
       "      <td>0</td>\n",
       "      <td>5116</td>\n",
       "    </tr>\n",
       "  </tbody>\n",
       "</table>\n",
       "<p>5 rows × 61 columns</p>\n",
       "</div>"
      ],
      "text/plain": [
       "median_prior_order   0.0   0.5     1.0   1.5     2.0   2.5      3.0   3.5   \\\n",
       "income_group                                                                 \n",
       "High                 4361     0   12327     5   75227   690   162356  2551   \n",
       "Low                  1082     0   16507     0   45099   676   105155  1172   \n",
       "Middle              21814    66  105620  1525  401304  5103  1083311  7473   \n",
       "Upper Middle          267    19    9558     0   22863   398    93597   372   \n",
       "Very High               0     0    2233     0    4455     0    19083   184   \n",
       "\n",
       "median_prior_order     4.0    4.5   ...  25.5    26.0  26.5    27.0  27.5  \\\n",
       "income_group                        ...                                     \n",
       "High                 281445   3227  ...   523   15750   243   17112   876   \n",
       "Low                  143493   2607  ...   481   14894   638   16392   318   \n",
       "Middle              1718034  21401  ...  4664  106512  3347  108277  3558   \n",
       "Upper Middle         126780   1749  ...   616    6720   240    9728   178   \n",
       "Very High             19288      0  ...    60     971     0     390     0   \n",
       "\n",
       "median_prior_order    28.0  28.5   29.0  29.5    30.0  \n",
       "income_group                                           \n",
       "High                 22813   369  14885   415  131267  \n",
       "Low                  17013   773  13062   504  119274  \n",
       "Middle              124674  4392  83188  2778  833795  \n",
       "Upper Middle         10029   424   6685   451   60933  \n",
       "Very High              646     0    263     0    5116  \n",
       "\n",
       "[5 rows x 61 columns]"
      ]
     },
     "execution_count": 88,
     "metadata": {},
     "output_type": "execute_result"
    }
   ],
   "source": [
    "crosstab12"
   ]
  },
  {
   "cell_type": "code",
   "execution_count": 89,
   "id": "41eb7545",
   "metadata": {},
   "outputs": [],
   "source": [
    "crosstab12.to_clipboard()"
   ]
  },
  {
   "cell_type": "code",
   "execution_count": 90,
   "id": "4d50ba89",
   "metadata": {},
   "outputs": [],
   "source": [
    "crosstab13 = pd.crosstab(df['income_group'], df['department'], dropna = False)"
   ]
  },
  {
   "cell_type": "code",
   "execution_count": 91,
   "id": "f3a06006",
   "metadata": {
    "scrolled": false
   },
   "outputs": [
    {
     "data": {
      "text/html": [
       "<div>\n",
       "<style scoped>\n",
       "    .dataframe tbody tr th:only-of-type {\n",
       "        vertical-align: middle;\n",
       "    }\n",
       "\n",
       "    .dataframe tbody tr th {\n",
       "        vertical-align: top;\n",
       "    }\n",
       "\n",
       "    .dataframe thead th {\n",
       "        text-align: right;\n",
       "    }\n",
       "</style>\n",
       "<table border=\"1\" class=\"dataframe\">\n",
       "  <thead>\n",
       "    <tr style=\"text-align: right;\">\n",
       "      <th>department</th>\n",
       "      <th>alcohol</th>\n",
       "      <th>babies</th>\n",
       "      <th>bakery</th>\n",
       "      <th>beverages</th>\n",
       "      <th>breakfast</th>\n",
       "      <th>bulk</th>\n",
       "      <th>canned goods</th>\n",
       "      <th>dairy eggs</th>\n",
       "      <th>deli</th>\n",
       "      <th>dry goods pasta</th>\n",
       "      <th>...</th>\n",
       "      <th>household</th>\n",
       "      <th>international</th>\n",
       "      <th>meat seafood</th>\n",
       "      <th>missing</th>\n",
       "      <th>other</th>\n",
       "      <th>pantry</th>\n",
       "      <th>personal care</th>\n",
       "      <th>pets</th>\n",
       "      <th>produce</th>\n",
       "      <th>snacks</th>\n",
       "    </tr>\n",
       "    <tr>\n",
       "      <th>income_group</th>\n",
       "      <th></th>\n",
       "      <th></th>\n",
       "      <th></th>\n",
       "      <th></th>\n",
       "      <th></th>\n",
       "      <th></th>\n",
       "      <th></th>\n",
       "      <th></th>\n",
       "      <th></th>\n",
       "      <th></th>\n",
       "      <th></th>\n",
       "      <th></th>\n",
       "      <th></th>\n",
       "      <th></th>\n",
       "      <th></th>\n",
       "      <th></th>\n",
       "      <th></th>\n",
       "      <th></th>\n",
       "      <th></th>\n",
       "      <th></th>\n",
       "      <th></th>\n",
       "    </tr>\n",
       "  </thead>\n",
       "  <tbody>\n",
       "    <tr>\n",
       "      <th>High</th>\n",
       "      <td>17940</td>\n",
       "      <td>50897</td>\n",
       "      <td>135840</td>\n",
       "      <td>288718</td>\n",
       "      <td>76893</td>\n",
       "      <td>3644</td>\n",
       "      <td>123325</td>\n",
       "      <td>614942</td>\n",
       "      <td>118585</td>\n",
       "      <td>99467</td>\n",
       "      <td>...</td>\n",
       "      <td>81154</td>\n",
       "      <td>30787</td>\n",
       "      <td>85363</td>\n",
       "      <td>7938</td>\n",
       "      <td>4083</td>\n",
       "      <td>216061</td>\n",
       "      <td>49494</td>\n",
       "      <td>11108</td>\n",
       "      <td>1085459</td>\n",
       "      <td>282853</td>\n",
       "    </tr>\n",
       "    <tr>\n",
       "      <th>Low</th>\n",
       "      <td>13462</td>\n",
       "      <td>21874</td>\n",
       "      <td>78253</td>\n",
       "      <td>292158</td>\n",
       "      <td>69606</td>\n",
       "      <td>3419</td>\n",
       "      <td>57774</td>\n",
       "      <td>373086</td>\n",
       "      <td>80124</td>\n",
       "      <td>47320</td>\n",
       "      <td>...</td>\n",
       "      <td>65299</td>\n",
       "      <td>15908</td>\n",
       "      <td>23453</td>\n",
       "      <td>4956</td>\n",
       "      <td>2969</td>\n",
       "      <td>122761</td>\n",
       "      <td>35487</td>\n",
       "      <td>6851</td>\n",
       "      <td>608793</td>\n",
       "      <td>434198</td>\n",
       "    </tr>\n",
       "    <tr>\n",
       "      <th>Middle</th>\n",
       "      <td>99491</td>\n",
       "      <td>310367</td>\n",
       "      <td>829586</td>\n",
       "      <td>1829586</td>\n",
       "      <td>481759</td>\n",
       "      <td>24549</td>\n",
       "      <td>760454</td>\n",
       "      <td>3846968</td>\n",
       "      <td>740406</td>\n",
       "      <td>620054</td>\n",
       "      <td>...</td>\n",
       "      <td>503510</td>\n",
       "      <td>192212</td>\n",
       "      <td>518744</td>\n",
       "      <td>47942</td>\n",
       "      <td>25019</td>\n",
       "      <td>1324941</td>\n",
       "      <td>311386</td>\n",
       "      <td>67821</td>\n",
       "      <td>6811954</td>\n",
       "      <td>1893572</td>\n",
       "    </tr>\n",
       "    <tr>\n",
       "      <th>Upper Middle</th>\n",
       "      <td>7607</td>\n",
       "      <td>25150</td>\n",
       "      <td>64545</td>\n",
       "      <td>136778</td>\n",
       "      <td>36063</td>\n",
       "      <td>1812</td>\n",
       "      <td>61432</td>\n",
       "      <td>297879</td>\n",
       "      <td>57411</td>\n",
       "      <td>48412</td>\n",
       "      <td>...</td>\n",
       "      <td>38368</td>\n",
       "      <td>15047</td>\n",
       "      <td>41062</td>\n",
       "      <td>3615</td>\n",
       "      <td>1869</td>\n",
       "      <td>103066</td>\n",
       "      <td>23902</td>\n",
       "      <td>5397</td>\n",
       "      <td>523674</td>\n",
       "      <td>132831</td>\n",
       "    </tr>\n",
       "    <tr>\n",
       "      <th>Very High</th>\n",
       "      <td>6127</td>\n",
       "      <td>2104</td>\n",
       "      <td>12604</td>\n",
       "      <td>24661</td>\n",
       "      <td>6529</td>\n",
       "      <td>27</td>\n",
       "      <td>9089</td>\n",
       "      <td>44307</td>\n",
       "      <td>7308</td>\n",
       "      <td>6883</td>\n",
       "      <td>...</td>\n",
       "      <td>11526</td>\n",
       "      <td>2037</td>\n",
       "      <td>6159</td>\n",
       "      <td>317</td>\n",
       "      <td>471</td>\n",
       "      <td>15876</td>\n",
       "      <td>4037</td>\n",
       "      <td>1883</td>\n",
       "      <td>49393</td>\n",
       "      <td>22952</td>\n",
       "    </tr>\n",
       "  </tbody>\n",
       "</table>\n",
       "<p>5 rows × 21 columns</p>\n",
       "</div>"
      ],
      "text/plain": [
       "department    alcohol  babies  bakery  beverages  breakfast   bulk  \\\n",
       "income_group                                                         \n",
       "High            17940   50897  135840     288718      76893   3644   \n",
       "Low             13462   21874   78253     292158      69606   3419   \n",
       "Middle          99491  310367  829586    1829586     481759  24549   \n",
       "Upper Middle     7607   25150   64545     136778      36063   1812   \n",
       "Very High        6127    2104   12604      24661       6529     27   \n",
       "\n",
       "department    canned goods  dairy eggs    deli  dry goods pasta  ...  \\\n",
       "income_group                                                     ...   \n",
       "High                123325      614942  118585            99467  ...   \n",
       "Low                  57774      373086   80124            47320  ...   \n",
       "Middle              760454     3846968  740406           620054  ...   \n",
       "Upper Middle         61432      297879   57411            48412  ...   \n",
       "Very High             9089       44307    7308             6883  ...   \n",
       "\n",
       "department    household  international  meat seafood  missing  other   pantry  \\\n",
       "income_group                                                                    \n",
       "High              81154          30787         85363     7938   4083   216061   \n",
       "Low               65299          15908         23453     4956   2969   122761   \n",
       "Middle           503510         192212        518744    47942  25019  1324941   \n",
       "Upper Middle      38368          15047         41062     3615   1869   103066   \n",
       "Very High         11526           2037          6159      317    471    15876   \n",
       "\n",
       "department    personal care   pets  produce   snacks  \n",
       "income_group                                          \n",
       "High                  49494  11108  1085459   282853  \n",
       "Low                   35487   6851   608793   434198  \n",
       "Middle               311386  67821  6811954  1893572  \n",
       "Upper Middle          23902   5397   523674   132831  \n",
       "Very High              4037   1883    49393    22952  \n",
       "\n",
       "[5 rows x 21 columns]"
      ]
     },
     "execution_count": 91,
     "metadata": {},
     "output_type": "execute_result"
    }
   ],
   "source": [
    "crosstab13"
   ]
  },
  {
   "cell_type": "code",
   "execution_count": 92,
   "id": "ab03daa9",
   "metadata": {},
   "outputs": [],
   "source": [
    "crosstab13.to_clipboard()"
   ]
  },
  {
   "cell_type": "code",
   "execution_count": 93,
   "id": "48ac2db7",
   "metadata": {},
   "outputs": [],
   "source": [
    "crosstab14 = pd.crosstab(df['family_status'], df['department'], dropna = False)"
   ]
  },
  {
   "cell_type": "code",
   "execution_count": 94,
   "id": "50538375",
   "metadata": {
    "scrolled": true
   },
   "outputs": [
    {
     "data": {
      "text/html": [
       "<div>\n",
       "<style scoped>\n",
       "    .dataframe tbody tr th:only-of-type {\n",
       "        vertical-align: middle;\n",
       "    }\n",
       "\n",
       "    .dataframe tbody tr th {\n",
       "        vertical-align: top;\n",
       "    }\n",
       "\n",
       "    .dataframe thead th {\n",
       "        text-align: right;\n",
       "    }\n",
       "</style>\n",
       "<table border=\"1\" class=\"dataframe\">\n",
       "  <thead>\n",
       "    <tr style=\"text-align: right;\">\n",
       "      <th>department</th>\n",
       "      <th>alcohol</th>\n",
       "      <th>babies</th>\n",
       "      <th>bakery</th>\n",
       "      <th>beverages</th>\n",
       "      <th>breakfast</th>\n",
       "      <th>bulk</th>\n",
       "      <th>canned goods</th>\n",
       "      <th>dairy eggs</th>\n",
       "      <th>deli</th>\n",
       "      <th>dry goods pasta</th>\n",
       "      <th>...</th>\n",
       "      <th>household</th>\n",
       "      <th>international</th>\n",
       "      <th>meat seafood</th>\n",
       "      <th>missing</th>\n",
       "      <th>other</th>\n",
       "      <th>pantry</th>\n",
       "      <th>personal care</th>\n",
       "      <th>pets</th>\n",
       "      <th>produce</th>\n",
       "      <th>snacks</th>\n",
       "    </tr>\n",
       "    <tr>\n",
       "      <th>family_status</th>\n",
       "      <th></th>\n",
       "      <th></th>\n",
       "      <th></th>\n",
       "      <th></th>\n",
       "      <th></th>\n",
       "      <th></th>\n",
       "      <th></th>\n",
       "      <th></th>\n",
       "      <th></th>\n",
       "      <th></th>\n",
       "      <th></th>\n",
       "      <th></th>\n",
       "      <th></th>\n",
       "      <th></th>\n",
       "      <th></th>\n",
       "      <th></th>\n",
       "      <th></th>\n",
       "      <th></th>\n",
       "      <th></th>\n",
       "      <th></th>\n",
       "      <th></th>\n",
       "    </tr>\n",
       "  </thead>\n",
       "  <tbody>\n",
       "    <tr>\n",
       "      <th>divorced/widowed</th>\n",
       "      <td>11859</td>\n",
       "      <td>34351</td>\n",
       "      <td>95735</td>\n",
       "      <td>220879</td>\n",
       "      <td>56590</td>\n",
       "      <td>2676</td>\n",
       "      <td>84268</td>\n",
       "      <td>442602</td>\n",
       "      <td>86749</td>\n",
       "      <td>70251</td>\n",
       "      <td>...</td>\n",
       "      <td>58446</td>\n",
       "      <td>21814</td>\n",
       "      <td>57621</td>\n",
       "      <td>5064</td>\n",
       "      <td>2842</td>\n",
       "      <td>151891</td>\n",
       "      <td>36313</td>\n",
       "      <td>8025</td>\n",
       "      <td>777094</td>\n",
       "      <td>236244</td>\n",
       "    </tr>\n",
       "    <tr>\n",
       "      <th>living with parents and siblings</th>\n",
       "      <td>8379</td>\n",
       "      <td>19381</td>\n",
       "      <td>53684</td>\n",
       "      <td>119107</td>\n",
       "      <td>33198</td>\n",
       "      <td>1633</td>\n",
       "      <td>48477</td>\n",
       "      <td>250207</td>\n",
       "      <td>48119</td>\n",
       "      <td>39542</td>\n",
       "      <td>...</td>\n",
       "      <td>33349</td>\n",
       "      <td>12394</td>\n",
       "      <td>32344</td>\n",
       "      <td>3317</td>\n",
       "      <td>1815</td>\n",
       "      <td>85845</td>\n",
       "      <td>20201</td>\n",
       "      <td>5338</td>\n",
       "      <td>430539</td>\n",
       "      <td>131310</td>\n",
       "    </tr>\n",
       "    <tr>\n",
       "      <th>married</th>\n",
       "      <td>99421</td>\n",
       "      <td>287683</td>\n",
       "      <td>785749</td>\n",
       "      <td>1807453</td>\n",
       "      <td>471220</td>\n",
       "      <td>23818</td>\n",
       "      <td>712577</td>\n",
       "      <td>3632599</td>\n",
       "      <td>702333</td>\n",
       "      <td>578298</td>\n",
       "      <td>...</td>\n",
       "      <td>495150</td>\n",
       "      <td>179136</td>\n",
       "      <td>476559</td>\n",
       "      <td>45516</td>\n",
       "      <td>23882</td>\n",
       "      <td>1252956</td>\n",
       "      <td>297900</td>\n",
       "      <td>64120</td>\n",
       "      <td>6373293</td>\n",
       "      <td>1944658</td>\n",
       "    </tr>\n",
       "    <tr>\n",
       "      <th>single</th>\n",
       "      <td>24968</td>\n",
       "      <td>68977</td>\n",
       "      <td>185660</td>\n",
       "      <td>424462</td>\n",
       "      <td>109842</td>\n",
       "      <td>5324</td>\n",
       "      <td>166752</td>\n",
       "      <td>851774</td>\n",
       "      <td>166633</td>\n",
       "      <td>134045</td>\n",
       "      <td>...</td>\n",
       "      <td>112912</td>\n",
       "      <td>42647</td>\n",
       "      <td>108257</td>\n",
       "      <td>10871</td>\n",
       "      <td>5872</td>\n",
       "      <td>292013</td>\n",
       "      <td>69892</td>\n",
       "      <td>15577</td>\n",
       "      <td>1498347</td>\n",
       "      <td>454194</td>\n",
       "    </tr>\n",
       "  </tbody>\n",
       "</table>\n",
       "<p>4 rows × 21 columns</p>\n",
       "</div>"
      ],
      "text/plain": [
       "department                        alcohol  babies  bakery  beverages  \\\n",
       "family_status                                                          \n",
       "divorced/widowed                    11859   34351   95735     220879   \n",
       "living with parents and siblings     8379   19381   53684     119107   \n",
       "married                             99421  287683  785749    1807453   \n",
       "single                              24968   68977  185660     424462   \n",
       "\n",
       "department                        breakfast   bulk  canned goods  dairy eggs  \\\n",
       "family_status                                                                  \n",
       "divorced/widowed                      56590   2676         84268      442602   \n",
       "living with parents and siblings      33198   1633         48477      250207   \n",
       "married                              471220  23818        712577     3632599   \n",
       "single                               109842   5324        166752      851774   \n",
       "\n",
       "department                          deli  dry goods pasta  ...  household  \\\n",
       "family_status                                              ...              \n",
       "divorced/widowed                   86749            70251  ...      58446   \n",
       "living with parents and siblings   48119            39542  ...      33349   \n",
       "married                           702333           578298  ...     495150   \n",
       "single                            166633           134045  ...     112912   \n",
       "\n",
       "department                        international  meat seafood  missing  other  \\\n",
       "family_status                                                                   \n",
       "divorced/widowed                          21814         57621     5064   2842   \n",
       "living with parents and siblings          12394         32344     3317   1815   \n",
       "married                                  179136        476559    45516  23882   \n",
       "single                                    42647        108257    10871   5872   \n",
       "\n",
       "department                         pantry  personal care   pets  produce  \\\n",
       "family_status                                                              \n",
       "divorced/widowed                   151891          36313   8025   777094   \n",
       "living with parents and siblings    85845          20201   5338   430539   \n",
       "married                           1252956         297900  64120  6373293   \n",
       "single                             292013          69892  15577  1498347   \n",
       "\n",
       "department                         snacks  \n",
       "family_status                              \n",
       "divorced/widowed                   236244  \n",
       "living with parents and siblings   131310  \n",
       "married                           1944658  \n",
       "single                             454194  \n",
       "\n",
       "[4 rows x 21 columns]"
      ]
     },
     "execution_count": 94,
     "metadata": {},
     "output_type": "execute_result"
    }
   ],
   "source": [
    "crosstab14"
   ]
  },
  {
   "cell_type": "code",
   "execution_count": 95,
   "id": "f122efc0",
   "metadata": {},
   "outputs": [],
   "source": [
    "crosstab14.to_clipboard()"
   ]
  },
  {
   "cell_type": "code",
   "execution_count": 99,
   "id": "b06d4f7b",
   "metadata": {},
   "outputs": [],
   "source": [
    "crosstab18 = pd.crosstab(df['order_time_group'], df['department'], dropna = False)"
   ]
  },
  {
   "cell_type": "code",
   "execution_count": 100,
   "id": "98899ef8",
   "metadata": {
    "scrolled": true
   },
   "outputs": [
    {
     "data": {
      "text/html": [
       "<div>\n",
       "<style scoped>\n",
       "    .dataframe tbody tr th:only-of-type {\n",
       "        vertical-align: middle;\n",
       "    }\n",
       "\n",
       "    .dataframe tbody tr th {\n",
       "        vertical-align: top;\n",
       "    }\n",
       "\n",
       "    .dataframe thead th {\n",
       "        text-align: right;\n",
       "    }\n",
       "</style>\n",
       "<table border=\"1\" class=\"dataframe\">\n",
       "  <thead>\n",
       "    <tr style=\"text-align: right;\">\n",
       "      <th>department</th>\n",
       "      <th>alcohol</th>\n",
       "      <th>babies</th>\n",
       "      <th>bakery</th>\n",
       "      <th>beverages</th>\n",
       "      <th>breakfast</th>\n",
       "      <th>bulk</th>\n",
       "      <th>canned goods</th>\n",
       "      <th>dairy eggs</th>\n",
       "      <th>deli</th>\n",
       "      <th>dry goods pasta</th>\n",
       "      <th>...</th>\n",
       "      <th>household</th>\n",
       "      <th>international</th>\n",
       "      <th>meat seafood</th>\n",
       "      <th>missing</th>\n",
       "      <th>other</th>\n",
       "      <th>pantry</th>\n",
       "      <th>personal care</th>\n",
       "      <th>pets</th>\n",
       "      <th>produce</th>\n",
       "      <th>snacks</th>\n",
       "    </tr>\n",
       "    <tr>\n",
       "      <th>order_time_group</th>\n",
       "      <th></th>\n",
       "      <th></th>\n",
       "      <th></th>\n",
       "      <th></th>\n",
       "      <th></th>\n",
       "      <th></th>\n",
       "      <th></th>\n",
       "      <th></th>\n",
       "      <th></th>\n",
       "      <th></th>\n",
       "      <th></th>\n",
       "      <th></th>\n",
       "      <th></th>\n",
       "      <th></th>\n",
       "      <th></th>\n",
       "      <th></th>\n",
       "      <th></th>\n",
       "      <th></th>\n",
       "      <th></th>\n",
       "      <th></th>\n",
       "      <th></th>\n",
       "    </tr>\n",
       "  </thead>\n",
       "  <tbody>\n",
       "    <tr>\n",
       "      <th>Afternoon</th>\n",
       "      <td>67600</td>\n",
       "      <td>156399</td>\n",
       "      <td>459032</td>\n",
       "      <td>1034713</td>\n",
       "      <td>261168</td>\n",
       "      <td>13265</td>\n",
       "      <td>424411</td>\n",
       "      <td>2060458</td>\n",
       "      <td>412777</td>\n",
       "      <td>344139</td>\n",
       "      <td>...</td>\n",
       "      <td>277944</td>\n",
       "      <td>108265</td>\n",
       "      <td>281317</td>\n",
       "      <td>26007</td>\n",
       "      <td>14015</td>\n",
       "      <td>734307</td>\n",
       "      <td>168372</td>\n",
       "      <td>37993</td>\n",
       "      <td>3674845</td>\n",
       "      <td>1122314</td>\n",
       "    </tr>\n",
       "    <tr>\n",
       "      <th>Early Birds</th>\n",
       "      <td>3101</td>\n",
       "      <td>22714</td>\n",
       "      <td>48235</td>\n",
       "      <td>100447</td>\n",
       "      <td>30267</td>\n",
       "      <td>1324</td>\n",
       "      <td>39023</td>\n",
       "      <td>226225</td>\n",
       "      <td>39314</td>\n",
       "      <td>33100</td>\n",
       "      <td>...</td>\n",
       "      <td>30315</td>\n",
       "      <td>9465</td>\n",
       "      <td>27718</td>\n",
       "      <td>2703</td>\n",
       "      <td>1343</td>\n",
       "      <td>69601</td>\n",
       "      <td>18050</td>\n",
       "      <td>3908</td>\n",
       "      <td>386123</td>\n",
       "      <td>102893</td>\n",
       "    </tr>\n",
       "    <tr>\n",
       "      <th>Evening</th>\n",
       "      <td>30014</td>\n",
       "      <td>85872</td>\n",
       "      <td>231180</td>\n",
       "      <td>523637</td>\n",
       "      <td>137910</td>\n",
       "      <td>6935</td>\n",
       "      <td>204045</td>\n",
       "      <td>1061157</td>\n",
       "      <td>211608</td>\n",
       "      <td>174297</td>\n",
       "      <td>...</td>\n",
       "      <td>146770</td>\n",
       "      <td>52310</td>\n",
       "      <td>139923</td>\n",
       "      <td>13804</td>\n",
       "      <td>7562</td>\n",
       "      <td>368722</td>\n",
       "      <td>95174</td>\n",
       "      <td>22205</td>\n",
       "      <td>1857258</td>\n",
       "      <td>556748</td>\n",
       "    </tr>\n",
       "    <tr>\n",
       "      <th>Morning</th>\n",
       "      <td>40591</td>\n",
       "      <td>125522</td>\n",
       "      <td>334716</td>\n",
       "      <td>806593</td>\n",
       "      <td>211752</td>\n",
       "      <td>10271</td>\n",
       "      <td>297112</td>\n",
       "      <td>1596599</td>\n",
       "      <td>295055</td>\n",
       "      <td>232072</td>\n",
       "      <td>...</td>\n",
       "      <td>213315</td>\n",
       "      <td>73477</td>\n",
       "      <td>195357</td>\n",
       "      <td>18969</td>\n",
       "      <td>9913</td>\n",
       "      <td>524070</td>\n",
       "      <td>122650</td>\n",
       "      <td>25072</td>\n",
       "      <td>2714423</td>\n",
       "      <td>868540</td>\n",
       "    </tr>\n",
       "    <tr>\n",
       "      <th>Night Owls</th>\n",
       "      <td>3321</td>\n",
       "      <td>19885</td>\n",
       "      <td>47665</td>\n",
       "      <td>106511</td>\n",
       "      <td>29753</td>\n",
       "      <td>1656</td>\n",
       "      <td>47483</td>\n",
       "      <td>232743</td>\n",
       "      <td>45080</td>\n",
       "      <td>38528</td>\n",
       "      <td>...</td>\n",
       "      <td>31513</td>\n",
       "      <td>12474</td>\n",
       "      <td>30466</td>\n",
       "      <td>3285</td>\n",
       "      <td>1578</td>\n",
       "      <td>86005</td>\n",
       "      <td>20060</td>\n",
       "      <td>3882</td>\n",
       "      <td>446624</td>\n",
       "      <td>115911</td>\n",
       "    </tr>\n",
       "  </tbody>\n",
       "</table>\n",
       "<p>5 rows × 21 columns</p>\n",
       "</div>"
      ],
      "text/plain": [
       "department        alcohol  babies  bakery  beverages  breakfast   bulk  \\\n",
       "order_time_group                                                         \n",
       "Afternoon           67600  156399  459032    1034713     261168  13265   \n",
       "Early Birds          3101   22714   48235     100447      30267   1324   \n",
       "Evening             30014   85872  231180     523637     137910   6935   \n",
       "Morning             40591  125522  334716     806593     211752  10271   \n",
       "Night Owls           3321   19885   47665     106511      29753   1656   \n",
       "\n",
       "department        canned goods  dairy eggs    deli  dry goods pasta  ...  \\\n",
       "order_time_group                                                     ...   \n",
       "Afternoon               424411     2060458  412777           344139  ...   \n",
       "Early Birds              39023      226225   39314            33100  ...   \n",
       "Evening                 204045     1061157  211608           174297  ...   \n",
       "Morning                 297112     1596599  295055           232072  ...   \n",
       "Night Owls               47483      232743   45080            38528  ...   \n",
       "\n",
       "department        household  international  meat seafood  missing  other  \\\n",
       "order_time_group                                                           \n",
       "Afternoon            277944         108265        281317    26007  14015   \n",
       "Early Birds           30315           9465         27718     2703   1343   \n",
       "Evening              146770          52310        139923    13804   7562   \n",
       "Morning              213315          73477        195357    18969   9913   \n",
       "Night Owls            31513          12474         30466     3285   1578   \n",
       "\n",
       "department        pantry  personal care   pets  produce   snacks  \n",
       "order_time_group                                                  \n",
       "Afternoon         734307         168372  37993  3674845  1122314  \n",
       "Early Birds        69601          18050   3908   386123   102893  \n",
       "Evening           368722          95174  22205  1857258   556748  \n",
       "Morning           524070         122650  25072  2714423   868540  \n",
       "Night Owls         86005          20060   3882   446624   115911  \n",
       "\n",
       "[5 rows x 21 columns]"
      ]
     },
     "execution_count": 100,
     "metadata": {},
     "output_type": "execute_result"
    }
   ],
   "source": [
    "crosstab18"
   ]
  },
  {
   "cell_type": "code",
   "execution_count": 101,
   "id": "97573ed1",
   "metadata": {},
   "outputs": [],
   "source": [
    "crosstab18.to_clipboard()"
   ]
  },
  {
   "cell_type": "code",
   "execution_count": 102,
   "id": "ff5ce9b1",
   "metadata": {},
   "outputs": [],
   "source": [
    "crosstab19 = pd.crosstab(df['order_time_group'], df['income_group'], dropna = False)"
   ]
  },
  {
   "cell_type": "code",
   "execution_count": 103,
   "id": "619bb906",
   "metadata": {},
   "outputs": [
    {
     "data": {
      "text/html": [
       "<div>\n",
       "<style scoped>\n",
       "    .dataframe tbody tr th:only-of-type {\n",
       "        vertical-align: middle;\n",
       "    }\n",
       "\n",
       "    .dataframe tbody tr th {\n",
       "        vertical-align: top;\n",
       "    }\n",
       "\n",
       "    .dataframe thead th {\n",
       "        text-align: right;\n",
       "    }\n",
       "</style>\n",
       "<table border=\"1\" class=\"dataframe\">\n",
       "  <thead>\n",
       "    <tr style=\"text-align: right;\">\n",
       "      <th>income_group</th>\n",
       "      <th>High</th>\n",
       "      <th>Low</th>\n",
       "      <th>Middle</th>\n",
       "      <th>Upper Middle</th>\n",
       "      <th>Very High</th>\n",
       "    </tr>\n",
       "    <tr>\n",
       "      <th>order_time_group</th>\n",
       "      <th></th>\n",
       "      <th></th>\n",
       "      <th></th>\n",
       "      <th></th>\n",
       "      <th></th>\n",
       "    </tr>\n",
       "  </thead>\n",
       "  <tbody>\n",
       "    <tr>\n",
       "      <th>Afternoon</th>\n",
       "      <td>1466615</td>\n",
       "      <td>999981</td>\n",
       "      <td>9265815</td>\n",
       "      <td>716802</td>\n",
       "      <td>103408</td>\n",
       "    </tr>\n",
       "    <tr>\n",
       "      <th>Early Birds</th>\n",
       "      <td>152203</td>\n",
       "      <td>92231</td>\n",
       "      <td>952580</td>\n",
       "      <td>69625</td>\n",
       "      <td>12768</td>\n",
       "    </tr>\n",
       "    <tr>\n",
       "      <th>Evening</th>\n",
       "      <td>767877</td>\n",
       "      <td>485481</td>\n",
       "      <td>4750611</td>\n",
       "      <td>365899</td>\n",
       "      <td>51559</td>\n",
       "    </tr>\n",
       "    <tr>\n",
       "      <th>Morning</th>\n",
       "      <td>1083364</td>\n",
       "      <td>834956</td>\n",
       "      <td>6778300</td>\n",
       "      <td>513523</td>\n",
       "      <td>77202</td>\n",
       "    </tr>\n",
       "    <tr>\n",
       "      <th>Night Owls</th>\n",
       "      <td>171074</td>\n",
       "      <td>106134</td>\n",
       "      <td>1057720</td>\n",
       "      <td>79631</td>\n",
       "      <td>9205</td>\n",
       "    </tr>\n",
       "  </tbody>\n",
       "</table>\n",
       "</div>"
      ],
      "text/plain": [
       "income_group         High     Low   Middle  Upper Middle  Very High\n",
       "order_time_group                                                   \n",
       "Afternoon         1466615  999981  9265815        716802     103408\n",
       "Early Birds        152203   92231   952580         69625      12768\n",
       "Evening            767877  485481  4750611        365899      51559\n",
       "Morning           1083364  834956  6778300        513523      77202\n",
       "Night Owls         171074  106134  1057720         79631       9205"
      ]
     },
     "execution_count": 103,
     "metadata": {},
     "output_type": "execute_result"
    }
   ],
   "source": [
    "crosstab19"
   ]
  },
  {
   "cell_type": "code",
   "execution_count": 104,
   "id": "e1ef5d64",
   "metadata": {},
   "outputs": [],
   "source": [
    "crosstab19.to_clipboard()"
   ]
  },
  {
   "cell_type": "code",
   "execution_count": 105,
   "id": "2874d7d8",
   "metadata": {},
   "outputs": [
    {
     "data": {
      "text/plain": [
       "Regularly Busy Hours    20346403\n",
       "Busiest Hours           10368493\n",
       "Least Busy Hours          249668\n",
       "Name: busiest_hours, dtype: int64"
      ]
     },
     "execution_count": 105,
     "metadata": {},
     "output_type": "execute_result"
    }
   ],
   "source": [
    "df['busiest_hours'].value_counts()"
   ]
  },
  {
   "cell_type": "code",
   "execution_count": 108,
   "id": "9e165158",
   "metadata": {},
   "outputs": [
    {
     "data": {
      "text/plain": [
       "Text(0, 0.5, 'Orders')"
      ]
     },
     "execution_count": 108,
     "metadata": {},
     "output_type": "execute_result"
    },
    {
     "data": {
      "image/png": "[encoded data removed]",
      "text/plain": [
       "<Figure size 1080x360 with 1 Axes>"
      ]
     },
     "metadata": {},
     "output_type": "display_data"
    }
   ],
   "source": [
    "sns.set(rc = {'figure.figsize':(15,5)})\n",
    "pieloy = df['loyalty_flag'].value_counts().plot.bar()\n",
    "plt.title('Customer Loyalty', fontsize = 20)\n",
    "plt.xlabel('Customer', fontsize = 20)\n",
    "plt.ylabel('Orders', fontsize = 20) "
   ]
  },
  {
   "cell_type": "code",
   "execution_count": 109,
   "id": "75b93dae",
   "metadata": {},
   "outputs": [],
   "source": [
    "pieloy1 = df['loyalty_flag'].value_counts()"
   ]
  },
  {
   "cell_type": "code",
   "execution_count": 110,
   "id": "3a98c202",
   "metadata": {},
   "outputs": [],
   "source": [
    "crosstab22 = pd.crosstab(df['loyalty_flag'], df['frequency_flag'], dropna = False)"
   ]
  },
  {
   "cell_type": "code",
   "execution_count": 111,
   "id": "e52ee29d",
   "metadata": {},
   "outputs": [],
   "source": [
    "crosstab22.to_clipboard()"
   ]
  },
  {
   "cell_type": "code",
   "execution_count": 112,
   "id": "db5ee56b",
   "metadata": {},
   "outputs": [],
   "source": [
    "crosstab30 = pd.crosstab(df['loyalty_flag'], df['frequency_flag'], dropna = False)"
   ]
  },
  {
   "cell_type": "markdown",
   "id": "2ed3ec27",
   "metadata": {},
   "source": [
    "## 9. export charts"
   ]
  },
  {
   "cell_type": "code",
   "execution_count": null,
   "id": "f9e998d9",
   "metadata": {},
   "outputs": [],
   "source": [
    "bargr.figure.savefig(os.path.join(path, '04 Analysis', 'Visualizations', 'final_geo_reg.png'))\n",
    "barag.figure.savefig(os.path.join(path, '04 Analysis', 'Visualizations', 'final_age.png'))\n",
    "histig.figure.savefig(os.path.join(path, '04 Analysis', 'Visualizations', 'final_histig.png'))\n",
    "barig.figure.savefig(os.path.join(path, '04 Analysis', 'Visualizations', 'final_barig.png'))\n",
    "pieg.figure.savefig(os.path.join(path, '04 Analysis', 'Visualizations', 'final_pieig.png'))\n",
    "barfs.figure.savefig(os.path.join(path, '04 Analysis', 'Visualizations', 'final_barfs.png'))\n",
    "pienp.figure.savefig(os.path.join(path, '04 Analysis', 'Visualizations', 'final_pienp.png'))\n",
    "pieotg.figure.savefig(os.path.join(path, '04 Analysis', 'Visualizations', 'final_piotg.png'))"
   ]
  },
  {
   "cell_type": "code",
   "execution_count": 161,
   "id": "878ccc35",
   "metadata": {},
   "outputs": [
    {
     "data": {
      "text/plain": [
       "Text(0, 0.5, 'Orders')"
      ]
     },
     "execution_count": 161,
     "metadata": {},
     "output_type": "execute_result"
    },
    {
     "data": {
      "image/png": "[encoded data removed]",
      "text/plain": [
       "<Figure size 1296x576 with 1 Axes>"
      ]
     },
     "metadata": {},
     "output_type": "display_data"
    }
   ],
   "source": [
    "income_cross_bar = income_cross.plot(kind='bar')\n",
    "plt.title('Price Range', fontsize = 20)\n",
    "plt.xlabel('Income Group', fontsize = 20)\n",
    "plt.ylabel('Orders', fontsize = 20) "
   ]
  },
  {
   "cell_type": "code",
   "execution_count": null,
   "id": "0c3a0e79",
   "metadata": {},
   "outputs": [],
   "source": []
  }
 ],
 "metadata": {
  "kernelspec": {
   "display_name": "Python 3 (ipykernel)",
   "language": "python",
   "name": "python3"
  },
  "language_info": {
   "codemirror_mode": {
    "name": "ipython",
    "version": 3
   },
   "file_extension": ".py",
   "mimetype": "text/x-python",
   "name": "python",
   "nbconvert_exporter": "python",
   "pygments_lexer": "ipython3",
   "version": "3.9.7"
  }
 },
 "nbformat": 4,
 "nbformat_minor": 5
}
