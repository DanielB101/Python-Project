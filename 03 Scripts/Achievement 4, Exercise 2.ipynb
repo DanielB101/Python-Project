{
 "cells": [
  {
   "cell_type": "markdown",
   "id": "6713c74d",
   "metadata": {},
   "source": [
    "# 01. Importing Libraries"
   ]
  },
  {
   "cell_type": "code",
   "execution_count": 2,
   "id": "b131f213",
   "metadata": {},
   "outputs": [],
   "source": [
    "# Import libraries\n",
    "import pandas as pd\n",
    "import numpy as np\n",
    "import os"
   ]
  },
  {
   "cell_type": "markdown",
   "id": "93cff633",
   "metadata": {},
   "source": [
    "# 02. Data Types"
   ]
  },
  {
   "cell_type": "code",
   "execution_count": 8,
   "id": "41cb4088",
   "metadata": {},
   "outputs": [],
   "source": [
    "x = 100"
   ]
  },
  {
   "cell_type": "code",
   "execution_count": 9,
   "id": "029749da",
   "metadata": {},
   "outputs": [
    {
     "data": {
      "text/plain": [
       "100"
      ]
     },
     "execution_count": 9,
     "metadata": {},
     "output_type": "execute_result"
    }
   ],
   "source": [
    "x"
   ]
  },
  {
   "cell_type": "code",
   "execution_count": 10,
   "id": "331bd96b",
   "metadata": {},
   "outputs": [
    {
     "name": "stdout",
     "output_type": "stream",
     "text": [
      "100\n"
     ]
    }
   ],
   "source": [
    "print(x)"
   ]
  },
  {
   "cell_type": "code",
   "execution_count": 14,
   "id": "052d003f",
   "metadata": {},
   "outputs": [],
   "source": [
    "y = 50"
   ]
  },
  {
   "cell_type": "code",
   "execution_count": 15,
   "id": "de7126dd",
   "metadata": {},
   "outputs": [
    {
     "data": {
      "text/plain": [
       "100"
      ]
     },
     "execution_count": 15,
     "metadata": {},
     "output_type": "execute_result"
    }
   ],
   "source": [
    "y + y"
   ]
  },
  {
   "cell_type": "code",
   "execution_count": 16,
   "id": "d2d4b0f2",
   "metadata": {},
   "outputs": [
    {
     "data": {
      "text/plain": [
       "100"
      ]
     },
     "execution_count": 16,
     "metadata": {},
     "output_type": "execute_result"
    }
   ],
   "source": [
    "y * 2"
   ]
  },
  {
   "cell_type": "code",
   "execution_count": 17,
   "id": "a72d019e",
   "metadata": {},
   "outputs": [
    {
     "data": {
      "text/plain": [
       "100"
      ]
     },
     "execution_count": 17,
     "metadata": {},
     "output_type": "execute_result"
    }
   ],
   "source": [
    "(y * 4) - x"
   ]
  },
  {
   "cell_type": "code",
   "execution_count": 6,
   "id": "4f840dde",
   "metadata": {},
   "outputs": [
    {
     "data": {
      "text/plain": [
       "int"
      ]
     },
     "execution_count": 6,
     "metadata": {},
     "output_type": "execute_result"
    }
   ],
   "source": [
    "type(x)"
   ]
  },
  {
   "cell_type": "code",
   "execution_count": 18,
   "id": "c353b9eb",
   "metadata": {},
   "outputs": [],
   "source": [
    "w = 1.234"
   ]
  },
  {
   "cell_type": "code",
   "execution_count": 19,
   "id": "febf9963",
   "metadata": {},
   "outputs": [
    {
     "data": {
      "text/plain": [
       "float"
      ]
     },
     "execution_count": 19,
     "metadata": {},
     "output_type": "execute_result"
    }
   ],
   "source": [
    "type(w)"
   ]
  },
  {
   "cell_type": "code",
   "execution_count": 20,
   "id": "5543ec9d",
   "metadata": {},
   "outputs": [],
   "source": [
    "z = 5.678"
   ]
  },
  {
   "cell_type": "code",
   "execution_count": 22,
   "id": "5e9ab79b",
   "metadata": {},
   "outputs": [
    {
     "data": {
      "text/plain": [
       "float"
      ]
     },
     "execution_count": 22,
     "metadata": {},
     "output_type": "execute_result"
    }
   ],
   "source": [
    "type(z)"
   ]
  },
  {
   "cell_type": "code",
   "execution_count": 23,
   "id": "6493b5b5",
   "metadata": {},
   "outputs": [
    {
     "data": {
      "text/plain": [
       "4.60129659643436"
      ]
     },
     "execution_count": 23,
     "metadata": {},
     "output_type": "execute_result"
    }
   ],
   "source": [
    "z / w"
   ]
  },
  {
   "cell_type": "code",
   "execution_count": 33,
   "id": "2379d589",
   "metadata": {},
   "outputs": [],
   "source": [
    "a = 'hel'"
   ]
  },
  {
   "cell_type": "code",
   "execution_count": 34,
   "id": "f6e24d8c",
   "metadata": {},
   "outputs": [],
   "source": [
    "b = 'lo'"
   ]
  },
  {
   "cell_type": "code",
   "execution_count": 35,
   "id": "362674bb",
   "metadata": {},
   "outputs": [
    {
     "data": {
      "text/plain": [
       "'hello'"
      ]
     },
     "execution_count": 35,
     "metadata": {},
     "output_type": "execute_result"
    }
   ],
   "source": [
    "a + b"
   ]
  },
  {
   "cell_type": "code",
   "execution_count": 24,
   "id": "21314cdc",
   "metadata": {},
   "outputs": [],
   "source": [
    "t = 'this is a sentence'"
   ]
  },
  {
   "cell_type": "code",
   "execution_count": 25,
   "id": "c77752aa",
   "metadata": {},
   "outputs": [],
   "source": [
    "u = 'written in separate strings.'"
   ]
  },
  {
   "cell_type": "code",
   "execution_count": 26,
   "id": "435b1454",
   "metadata": {},
   "outputs": [
    {
     "data": {
      "text/plain": [
       "'this is a sentencewritten in separate strings.'"
      ]
     },
     "execution_count": 26,
     "metadata": {},
     "output_type": "execute_result"
    }
   ],
   "source": [
    "t + u"
   ]
  },
  {
   "cell_type": "code",
   "execution_count": 27,
   "id": "0d2bb349",
   "metadata": {},
   "outputs": [],
   "source": [
    "p = 'this is a sentence'"
   ]
  },
  {
   "cell_type": "code",
   "execution_count": 28,
   "id": "237d83a3",
   "metadata": {},
   "outputs": [],
   "source": [
    "q = 'written in separate strings'"
   ]
  },
  {
   "cell_type": "code",
   "execution_count": 29,
   "id": "26760d39",
   "metadata": {},
   "outputs": [],
   "source": [
    "r = 'with spaces.'"
   ]
  },
  {
   "cell_type": "code",
   "execution_count": 30,
   "id": "3647552e",
   "metadata": {},
   "outputs": [],
   "source": [
    "s = ' '"
   ]
  },
  {
   "cell_type": "code",
   "execution_count": 31,
   "id": "47919c27",
   "metadata": {},
   "outputs": [
    {
     "data": {
      "text/plain": [
       "'this is a sentence written in separate strings with spaces.'"
      ]
     },
     "execution_count": 31,
     "metadata": {},
     "output_type": "execute_result"
    }
   ],
   "source": [
    "p + s + q + s + r "
   ]
  },
  {
   "cell_type": "code",
   "execution_count": 36,
   "id": "731ce3eb",
   "metadata": {},
   "outputs": [
    {
     "data": {
      "text/plain": [
       "bool"
      ]
     },
     "execution_count": 36,
     "metadata": {},
     "output_type": "execute_result"
    }
   ],
   "source": [
    "type(True)"
   ]
  },
  {
   "cell_type": "code",
   "execution_count": 37,
   "id": "7156a37a",
   "metadata": {},
   "outputs": [
    {
     "data": {
      "text/plain": [
       "bool"
      ]
     },
     "execution_count": 37,
     "metadata": {},
     "output_type": "execute_result"
    }
   ],
   "source": [
    "type(False)"
   ]
  },
  {
   "cell_type": "code",
   "execution_count": 38,
   "id": "074a8f43",
   "metadata": {},
   "outputs": [
    {
     "data": {
      "text/plain": [
       "False"
      ]
     },
     "execution_count": 38,
     "metadata": {},
     "output_type": "execute_result"
    }
   ],
   "source": [
    "x == y"
   ]
  },
  {
   "cell_type": "code",
   "execution_count": 39,
   "id": "6bbb99e0",
   "metadata": {},
   "outputs": [
    {
     "data": {
      "text/plain": [
       "bool"
      ]
     },
     "execution_count": 39,
     "metadata": {},
     "output_type": "execute_result"
    }
   ],
   "source": [
    "type(x == y)"
   ]
  },
  {
   "cell_type": "code",
   "execution_count": null,
   "id": "58e68318",
   "metadata": {},
   "outputs": [],
   "source": []
  }
 ],
 "metadata": {
  "kernelspec": {
   "display_name": "Python 3 (ipykernel)",
   "language": "python",
   "name": "python3"
  },
  "language_info": {
   "codemirror_mode": {
    "name": "ipython",
    "version": 3
   },
   "file_extension": ".py",
   "mimetype": "text/x-python",
   "name": "python",
   "nbconvert_exporter": "python",
   "pygments_lexer": "ipython3",
   "version": "3.9.7"
  }
 },
 "nbformat": 4,
 "nbformat_minor": 5
}
